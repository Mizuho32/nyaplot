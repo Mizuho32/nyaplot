{
 "metadata": {
  "language": "ruby",
  "name": ""
 },
 "nbformat": 3,
 "nbformat_minor": 0,
 "worksheets": [
  {
   "cells": [
    {
     "cell_type": "code",
     "collapsed": false,
     "input": [
      "require 'nyaplot'"
     ],
     "language": "python",
     "metadata": {},
     "outputs": [
      {
       "metadata": {},
       "output_type": "pyout",
       "prompt_number": 1,
       "text": [
        "true"
       ]
      }
     ],
     "prompt_number": 1
    },
    {
     "cell_type": "code",
     "collapsed": false,
     "input": [
      "df = Nyaplot::DataFrame.new({a:[1,2,3], b:[10,8,9]})"
     ],
     "language": "python",
     "metadata": {},
     "outputs": [
      {
       "html": [
        "<table><tr><th>a</th><th>b</th></tr><tr><td>1</td><td>10</td></tr><tr><td>2</td><td>8</td></tr><tr><td>3</td><td>9</td></tr></table>"
       ],
       "metadata": {},
       "output_type": "pyout",
       "prompt_number": 6,
       "text": [
        "#<Nyaplot::DataFrame:0xb9956d48 @name=\"f93113e6-f373-4628-a899-ab87e06f506a\", @rows=[{:a=>1, :b=>10}, {:a=>2, :b=>8}, {:a=>3, :b=>9}]>"
       ]
      }
     ],
     "prompt_number": 6
    },
    {
     "cell_type": "code",
     "collapsed": false,
     "input": [
      "plot = Nyaplot::Plot.new\n",
      "bar = plot.add(:bar, ['nya1', 'nya2', 'nya3'], [10,20,30])"
     ],
     "language": "python",
     "metadata": {},
     "outputs": [
      {
       "metadata": {},
       "output_type": "pyout",
       "prompt_number": 3,
       "text": [
        "#<Nyaplot::Diagram:0xb996652c @properties={:type=>:bar, :data=>\"98b50dbc-64a9-4f62-b0c0-32a26946b782\", :x=>\"x\", :y=>\"y\"}>"
       ]
      }
     ],
     "prompt_number": 3
    },
    {
     "cell_type": "code",
     "collapsed": false,
     "input": [
      "Nyaplot.init_iruby"
     ],
     "language": "python",
     "metadata": {},
     "outputs": [
      {
       "html": [
        "<script>if(window['d3'] === undefined ||\n",
        "   window['Nyaplot'] === undefined){\n",
        "    var path = {\n",
        "\td3: 'http://d3js.org/d3.v3.min'\n",
        "    };\n",
        "\n",
        "    require.config({paths: path});\n",
        "\n",
        "    require(['d3'], function(d3){\n",
        "\twindow['d3'] = d3;\n",
        "\tconsole.log('Finished loading d3.js');\n",
        "\n",
        "\tvar script = d3.select(\"head\")\n",
        "\t    .append(\"script\")\n",
        "\t    .attr(\"src\", \"https://rawgit.com/domitry/Nyaplotjs/master/release/nyaplot.js\")\n",
        "\t    .attr(\"async\", true);\n",
        "\n",
        "\tscript[0][0].onload = script[0][0].onreadystatechange = function(){\n",
        "\t    var event = document.createEvent(\"HTMLEvents\");\n",
        "\t    event.initEvent(\"load_nyaplot\",false,false);\n",
        "\t    window.dispatchEvent(event);\n",
        "\t    console.log('Finished loading Nyaplotjs');\n",
        "\t};\n",
        "    });\n",
        "}\n",
        "</script>"
       ],
       "metadata": {},
       "output_type": "pyout",
       "prompt_number": 4,
       "text": [
        "\"<script>if(window['d3'] === undefined ||\\n   window['Nyaplot'] === undefined){\\n    var path = {\\n\\td3: 'http://d3js.org/d3.v3.min'\\n    };\\n\\n    require.config({paths: path});\\n\\n    require(['d3'], function(d3){\\n\\twindow['d3'] = d3;\\n\\tconsole.log('Finished loading d3.js');\\n\\n\\tvar script = d3.select(\\\"head\\\")\\n\\t    .append(\\\"script\\\")\\n\\t    .attr(\\\"src\\\", \\\"https://rawgit.com/domitry/Nyaplotjs/master/release/nyaplot.js\\\")\\n\\t    .attr(\\\"async\\\", true);\\n\\n\\tscript[0][0].onload = script[0][0].onreadystatechange = function(){\\n\\t    var event = document.createEvent(\\\"HTMLEvents\\\");\\n\\t    event.initEvent(\\\"load_nyaplot\\\",false,false);\\n\\t    window.dispatchEvent(event);\\n\\t    console.log('Finished loading Nyaplotjs');\\n\\t};\\n    });\\n}\\n</script>\""
       ]
      }
     ],
     "prompt_number": 4
    },
    {
     "cell_type": "code",
     "collapsed": false,
     "input": [
      "plot.show"
     ],
     "language": "python",
     "metadata": {},
     "outputs": [
      {
       "html": [
        "<div id='vis-7ddcac30-5f88-4636-8512-162895551773'></div>\n",
        "<script>\n",
        "(function(){\n",
        "    var render = function(){\n",
        "        var model = {\"panes\":[{\"diagrams\":[{\"type\":\"bar\",\"data\":\"ba3ce9ef-aba0-4532-8eb0-df9577e486df\",\"x\":\"x\",\"y\":\"y\"}]},{\"diagrams\":[{\"type\":\"bar\",\"data\":\"ba3ce9ef-aba0-4532-8eb0-df9577e486df\",\"x\":\"x\",\"y\":\"y\"}]},{\"diagrams\":[{\"type\":\"bar\",\"data\":\"ba3ce9ef-aba0-4532-8eb0-df9577e486df\",\"x\":\"x\",\"y\":\"y\"}]},{\"diagrams\":[{\"type\":\"bar\",\"data\":\"ba3ce9ef-aba0-4532-8eb0-df9577e486df\",\"x\":\"x\",\"y\":\"y\"}]},{\"diagrams\":[{\"type\":\"bar\",\"data\":\"ba3ce9ef-aba0-4532-8eb0-df9577e486df\",\"x\":\"x\",\"y\":\"y\"}]}],\"data\":{\"ba3ce9ef-aba0-4532-8eb0-df9577e486df\":[{\"x\":\"nya1\",\"y\":10},{\"x\":\"nya2\",\"y\":20},{\"x\":\"nya3\",\"y\":30}]}}\n",
        "        Nyaplot.core.parse(model, '#vis-7ddcac30-5f88-4636-8512-162895551773');\n",
        "    };\n",
        "    if(window['Nyaplot']==undefined){\n",
        "        window.addEventListener('load_nyaplot', render, false);\n",
        "\treturn;\n",
        "    }\n",
        "    render();\n",
        "})();\n",
        "</script>\n"
       ],
       "metadata": {},
       "output_type": "pyout",
       "prompt_number": 9,
       "text": [
        "\"<div id='vis-7ddcac30-5f88-4636-8512-162895551773'></div>\\n<script>\\n(function(){\\n    var render = function(){\\n        var model = {\\\"panes\\\":[{\\\"diagrams\\\":[{\\\"type\\\":\\\"bar\\\",\\\"data\\\":\\\"ba3ce9ef-aba0-4532-8eb0-df9577e486df\\\",\\\"x\\\":\\\"x\\\",\\\"y\\\":\\\"y\\\"}]},{\\\"diagrams\\\":[{\\\"type\\\":\\\"bar\\\",\\\"data\\\":\\\"ba3ce9ef-aba0-4532-8eb0-df9577e486df\\\",\\\"x\\\":\\\"x\\\",\\\"y\\\":\\\"y\\\"}]},{\\\"diagrams\\\":[{\\\"type\\\":\\\"bar\\\",\\\"data\\\":\\\"ba3ce9ef-aba0-4532-8eb0-df9577e486df\\\",\\\"x\\\":\\\"x\\\",\\\"y\\\":\\\"y\\\"}]},{\\\"diagrams\\\":[{\\\"type\\\":\\\"bar\\\",\\\"data\\\":\\\"ba3ce9ef-aba0-4532-8eb0-df9577e486df\\\",\\\"x\\\":\\\"x\\\",\\\"y\\\":\\\"y\\\"}]},{\\\"diagrams\\\":[{\\\"type\\\":\\\"bar\\\",\\\"data\\\":\\\"ba3ce9ef-aba0-4532-8eb0-df9577e486df\\\",\\\"x\\\":\\\"x\\\",\\\"y\\\":\\\"y\\\"}]}],\\\"data\\\":{\\\"ba3ce9ef-aba0-4532-8eb0-df9577e486df\\\":[{\\\"x\\\":\\\"nya1\\\",\\\"y\\\":10},{\\\"x\\\":\\\"nya2\\\",\\\"y\\\":20},{\\\"x\\\":\\\"nya3\\\",\\\"y\\\":30}]}}\\n        Nyaplot.core.parse(model, '#vis-7ddcac30-5f88-4636-8512-162895551773');\\n    };\\n    if(window['Nyaplot']==undefined){\\n        window.addEventListener('load_nyaplot', render, false);\\n\\treturn;\\n    }\\n    render();\\n})();\\n</script>\\n\""
       ]
      }
     ],
     "prompt_number": 9
    }
   ],
   "metadata": {}
  }
 ]
}