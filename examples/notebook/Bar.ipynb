{
 "metadata": {
  "language": "ruby",
  "name": ""
 },
 "nbformat": 3,
 "nbformat_minor": 0,
 "worksheets": [
  {
   "cells": [
    {
     "cell_type": "code",
     "collapsed": false,
     "input": [
      "require 'nyaplot'"
     ],
     "language": "python",
     "metadata": {},
     "outputs": [
      {
       "metadata": {},
       "output_type": "pyout",
       "prompt_number": 7,
       "text": [
        "false"
       ]
      }
     ],
     "prompt_number": 7
    },
    {
     "cell_type": "code",
     "collapsed": false,
     "input": [
      "Nyaplot.init_iruby"
     ],
     "language": "python",
     "metadata": {},
     "outputs": [
      {
       "html": [
        "<script>if(window['d3'] === undefined ||\n",
        "   window['Nyaplot'] === undefined){\n",
        "    var paths = {\n",
        "\td3: 'http://d3js.org/d3.v3.min',\n",
        "\tnyaplot: 'http://rawgit.com/domitry/Nyaplotjs/master/release/nyaplot'\n",
        "    };\n",
        "\n",
        "    require.config({paths: paths});\n",
        "\n",
        "    require(['d3'], function(d3){\n",
        "\twindow['d3'] = d3;\n",
        "\tconsole.log('Finished loading d3.js');\n",
        "\trequire(['nyaplot'], function(Nyaplot){\n",
        "\t    window['Nyaplot'] = Nyaplot;\n",
        "\t    var event = document.createEvent(\"HTMLEvents\");\n",
        "\t    event.initEvent(\"load_nyaplot\",false,false);\n",
        "\t    window.dispatchEvent(event);\n",
        "\t    console.log('Finished loading Nyaplotjs');\n",
        "\t});\n",
        "    });\n",
        "}\n",
        "</script>"
       ],
       "metadata": {},
       "output_type": "pyout",
       "prompt_number": 8,
       "text": [
        "\"<script>if(window['d3'] === undefined ||\\n   window['Nyaplot'] === undefined){\\n    var paths = {\\n\\td3: 'http://d3js.org/d3.v3.min',\\n\\tnyaplot: 'http://rawgit.com/domitry/Nyaplotjs/master/release/nyaplot'\\n    };\\n\\n    require.config({paths: paths});\\n\\n    require(['d3'], function(d3){\\n\\twindow['d3'] = d3;\\n\\tconsole.log('Finished loading d3.js');\\n\\trequire(['nyaplot'], function(Nyaplot){\\n\\t    window['Nyaplot'] = Nyaplot;\\n\\t    var event = document.createEvent(\\\"HTMLEvents\\\");\\n\\t    event.initEvent(\\\"load_nyaplot\\\",false,false);\\n\\t    window.dispatchEvent(event);\\n\\t    console.log('Finished loading Nyaplotjs');\\n\\t});\\n    });\\n}\\n</script>\""
       ]
      }
     ],
     "prompt_number": 8
    },
    {
     "cell_type": "code",
     "collapsed": false,
     "input": [
      "bar = Nyaplot::Diagram.new do\n",
      "  type 'bar'\n",
      "  data 'data1'\n",
      "  options({x:'name', y:'val1'})\n",
      "end"
     ],
     "language": "python",
     "metadata": {},
     "outputs": [
      {
       "metadata": {},
       "output_type": "pyout",
       "prompt_number": 9,
       "text": [
        "#<Nyaplot::Diagram:0xb96b62dc @properties={:type=>\"bar\", :data=>\"data1\", :options=>{:x=>\"name\", :y=>\"val1\"}}>"
       ]
      }
     ],
     "prompt_number": 9
    },
    {
     "cell_type": "code",
     "collapsed": false,
     "input": [
      "pane = Nyaplot::Pane.new do \n",
      "  diagrams [bar]\n",
      "  options({width:500, height:500, xrange: ['type1','type2','type3','type4','type5'], yrange: [0,50]})\n",
      "end"
     ],
     "language": "python",
     "metadata": {},
     "outputs": [
      {
       "metadata": {},
       "output_type": "pyout",
       "prompt_number": 10,
       "text": [
        "#<Nyaplot::Pane:0xb96b0b0c @properties={:diagrams=>[#<Nyaplot::Diagram:0xb96b62dc @properties={:type=>\"bar\", :data=>\"data1\", :options=>{:x=>\"name\", :y=>\"val1\"}}>], :options=>{:width=>500, :height=>500, :xrange=>[\"type1\", \"type2\", \"type3\", \"type4\", \"type5\"], :yrange=>[0, 50]}}>"
       ]
      }
     ],
     "prompt_number": 10
    },
    {
     "cell_type": "code",
     "collapsed": false,
     "input": [
      "data = [{name:'type1',val1:48,val2:13}, {name:'type2',val1:20,val2:25}, {name:'type3',val1:4,val2:11}, {name:'type4',val1:12,val2:34}, {name:'type5',val1:22,val2:34}]\n",
      "stage = Nyaplot::Stage.new do\n",
      "  data({data1:data})\n",
      "  panes [pane]\n",
      "end"
     ],
     "language": "python",
     "metadata": {},
     "outputs": [
      {
       "metadata": {},
       "output_type": "pyout",
       "prompt_number": 13,
       "text": [
        "#<Nyaplot::Stage:0xb94d07c4 @properties={:data=>{:data1=>[{:name=>\"type1\", :val1=>48, :val2=>13}, {:name=>\"type2\", :val1=>20, :val2=>25}, {:name=>\"type3\", :val1=>4, :val2=>11}, {:name=>\"type4\", :val1=>12, :val2=>34}, {:name=>\"type5\", :val1=>22, :val2=>34}]}, :panes=>[#<Nyaplot::Pane:0xb96b0b0c @properties={:diagrams=>[#<Nyaplot::Diagram:0xb96b62dc @properties={:type=>\"bar\", :data=>\"data1\", :options=>{:x=>\"name\", :y=>\"val1\"}}>], :options=>{:width=>500, :height=>500, :xrange=>[\"type1\", \"type2\", \"type3\", \"type4\", \"type5\"], :yrange=>[0, 50]}}>]}>"
       ]
      }
     ],
     "prompt_number": 13
    },
    {
     "cell_type": "code",
     "collapsed": false,
     "input": [
      "stage.show"
     ],
     "language": "python",
     "metadata": {},
     "outputs": [
      {
       "html": [
        "<div id='vis-b67b1658-dd9f-4c59-8221-70156cfc25dd'></div>\n",
        "<script>\n",
        "(function(){\n",
        "    var render = function(){\n",
        "        var model = {\"data\":{\"data1\":[{\"name\":\"type1\",\"val1\":48,\"val2\":13},{\"name\":\"type2\",\"val1\":20,\"val2\":25},{\"name\":\"type3\",\"val1\":4,\"val2\":11},{\"name\":\"type4\",\"val1\":12,\"val2\":34},{\"name\":\"type5\",\"val1\":22,\"val2\":34}]},\"panes\":[{\"diagrams\":[{\"type\":\"bar\",\"data\":\"data1\",\"options\":{\"x\":\"name\",\"y\":\"val1\"}}],\"options\":{\"width\":500,\"height\":500,\"xrange\":[\"type1\",\"type2\",\"type3\",\"type4\",\"type5\"],\"yrange\":[0,50]}}]}\n",
        "        Nyaplot.core.parse(model, '#vis-b67b1658-dd9f-4c59-8221-70156cfc25dd');\n",
        "    };\n",
        "    if(window['Nyaplot']==undefined){\n",
        "        window.addEventListener('load_nyaplot', render, false);\n",
        "    }else render();\n",
        "})();\n",
        "</script>\n"
       ],
       "metadata": {},
       "output_type": "pyout",
       "prompt_number": 14,
       "text": [
        "\"<div id='vis-b67b1658-dd9f-4c59-8221-70156cfc25dd'></div>\\n<script>\\n(function(){\\n    var render = function(){\\n        var model = {\\\"data\\\":{\\\"data1\\\":[{\\\"name\\\":\\\"type1\\\",\\\"val1\\\":48,\\\"val2\\\":13},{\\\"name\\\":\\\"type2\\\",\\\"val1\\\":20,\\\"val2\\\":25},{\\\"name\\\":\\\"type3\\\",\\\"val1\\\":4,\\\"val2\\\":11},{\\\"name\\\":\\\"type4\\\",\\\"val1\\\":12,\\\"val2\\\":34},{\\\"name\\\":\\\"type5\\\",\\\"val1\\\":22,\\\"val2\\\":34}]},\\\"panes\\\":[{\\\"diagrams\\\":[{\\\"type\\\":\\\"bar\\\",\\\"data\\\":\\\"data1\\\",\\\"options\\\":{\\\"x\\\":\\\"name\\\",\\\"y\\\":\\\"val1\\\"}}],\\\"options\\\":{\\\"width\\\":500,\\\"height\\\":500,\\\"xrange\\\":[\\\"type1\\\",\\\"type2\\\",\\\"type3\\\",\\\"type4\\\",\\\"type5\\\"],\\\"yrange\\\":[0,50]}}]}\\n        Nyaplot.core.parse(model, '#vis-b67b1658-dd9f-4c59-8221-70156cfc25dd');\\n    };\\n    if(window['Nyaplot']==undefined){\\n        window.addEventListener('load_nyaplot', render, false);\\n    }else render();\\n})();\\n</script>\\n\""
       ]
      }
     ],
     "prompt_number": 14
    },
    {
     "cell_type": "code",
     "collapsed": false,
     "input": [],
     "language": "python",
     "metadata": {},
     "outputs": []
    }
   ],
   "metadata": {}
  }
 ]
}