{
 "metadata": {
  "language": "ruby",
  "name": ""
 },
 "nbformat": 3,
 "nbformat_minor": 0,
 "worksheets": [
  {
   "cells": [
    {
     "cell_type": "code",
     "collapsed": false,
     "input": [
      "require 'nyaplot'"
     ],
     "language": "python",
     "metadata": {},
     "outputs": [
      {
       "metadata": {},
       "output_type": "pyout",
       "prompt_number": 14,
       "text": [
        "false"
       ]
      }
     ],
     "prompt_number": 14
    },
    {
     "cell_type": "code",
     "collapsed": false,
     "input": [
      "Nyaplot.init_iruby"
     ],
     "language": "python",
     "metadata": {},
     "outputs": [
      {
       "html": [
        "<script>if(window['d3'] === undefined ||\n",
        "   window['Nyaplot'] === undefined){\n",
        "    var path = {\n",
        "\td3: 'http://d3js.org/d3.v3.min'\n",
        "    };\n",
        "\n",
        "    require.config({paths: path});\n",
        "\n",
        "    require(['d3'], function(d3){\n",
        "\twindow['d3'] = d3;\n",
        "\tconsole.log('Finished loading d3.js');\n",
        "\n",
        "\tvar script = d3.select(\"head\")\n",
        "\t    .append(\"script\")\n",
        "\t    .attr(\"src\", \"https://rawgit.com/domitry/Nyaplotjs/master/release/nyaplot.js\")\n",
        "\t    .attr(\"async\", true);\n",
        "\n",
        "\tscript[0][0].onload = function(){\n",
        "\t    var event = document.createEvent(\"HTMLEvents\");\n",
        "\t    event.initEvent(\"load_nyaplot\",false,false);\n",
        "\t    window.dispatchEvent(event);\n",
        "\t    console.log('Finished loading Nyaplotjs');\n",
        "\t};\n",
        "    });\n",
        "}\n",
        "</script>"
       ],
       "metadata": {},
       "output_type": "pyout",
       "prompt_number": 15,
       "text": [
        "\"<script>if(window['d3'] === undefined ||\\n   window['Nyaplot'] === undefined){\\n    var path = {\\n\\td3: 'http://d3js.org/d3.v3.min'\\n    };\\n\\n    require.config({paths: path});\\n\\n    require(['d3'], function(d3){\\n\\twindow['d3'] = d3;\\n\\tconsole.log('Finished loading d3.js');\\n\\n\\tvar script = d3.select(\\\"head\\\")\\n\\t    .append(\\\"script\\\")\\n\\t    .attr(\\\"src\\\", \\\"https://rawgit.com/domitry/Nyaplotjs/master/release/nyaplot.js\\\")\\n\\t    .attr(\\\"async\\\", true);\\n\\n\\tscript[0][0].onload = function(){\\n\\t    var event = document.createEvent(\\\"HTMLEvents\\\");\\n\\t    event.initEvent(\\\"load_nyaplot\\\",false,false);\\n\\t    window.dispatchEvent(event);\\n\\t    console.log('Finished loading Nyaplotjs');\\n\\t};\\n    });\\n}\\n</script>\""
       ]
      }
     ],
     "prompt_number": 15
    },
    {
     "cell_type": "code",
     "collapsed": false,
     "input": [
      "bar = Nyaplot::Diagram.new do\n",
      "  type 'bar'\n",
      "  data 'data1'\n",
      "  options({x:'name', y:'val1'})\n",
      "end"
     ],
     "language": "python",
     "metadata": {},
     "outputs": [
      {
       "metadata": {},
       "output_type": "pyout",
       "prompt_number": 16,
       "text": [
        "#<Nyaplot::Diagram:0xb87392b4 @properties={:type=>\"bar\", :data=>\"data1\", :options=>{:x=>\"name\", :y=>\"val1\"}}>"
       ]
      }
     ],
     "prompt_number": 16
    },
    {
     "cell_type": "code",
     "collapsed": false,
     "input": [
      "pane = Nyaplot::Pane.new do \n",
      "  diagrams [bar]\n",
      "  options({width:500, height:500, xrange: ['type1','type2','type3','type4','type5'], yrange: [0,50]})\n",
      "end"
     ],
     "language": "python",
     "metadata": {},
     "outputs": [
      {
       "metadata": {},
       "output_type": "pyout",
       "prompt_number": 17,
       "text": [
        "#<Nyaplot::Pane:0xb86c5f94 @properties={:diagrams=>[#<Nyaplot::Diagram:0xb87392b4 @properties={:type=>\"bar\", :data=>\"data1\", :options=>{:x=>\"name\", :y=>\"val1\"}}>], :options=>{:width=>500, :height=>500, :xrange=>[\"type1\", \"type2\", \"type3\", \"type4\", \"type5\"], :yrange=>[0, 50]}}>"
       ]
      }
     ],
     "prompt_number": 17
    },
    {
     "cell_type": "code",
     "collapsed": false,
     "input": [
      "data = [{name:'type1',val1:48,val2:13}, {name:'type2',val1:20,val2:25}, {name:'type3',val1:4,val2:11}, {name:'type4',val1:12,val2:34}, {name:'type5',val1:22,val2:34}]\n",
      "stage = Nyaplot::Stage.new do\n",
      "  data({data1:data})\n",
      "  panes [pane]\n",
      "end"
     ],
     "language": "python",
     "metadata": {},
     "outputs": [
      {
       "metadata": {},
       "output_type": "pyout",
       "prompt_number": 18,
       "text": [
        "#<Nyaplot::Stage:0xb858a4e0 @properties={:data=>{:data1=>[{:name=>\"type1\", :val1=>48, :val2=>13}, {:name=>\"type2\", :val1=>20, :val2=>25}, {:name=>\"type3\", :val1=>4, :val2=>11}, {:name=>\"type4\", :val1=>12, :val2=>34}, {:name=>\"type5\", :val1=>22, :val2=>34}]}, :panes=>[#<Nyaplot::Pane:0xb86c5f94 @properties={:diagrams=>[#<Nyaplot::Diagram:0xb87392b4 @properties={:type=>\"bar\", :data=>\"data1\", :options=>{:x=>\"name\", :y=>\"val1\"}}>], :options=>{:width=>500, :height=>500, :xrange=>[\"type1\", \"type2\", \"type3\", \"type4\", \"type5\"], :yrange=>[0, 50]}}>]}>"
       ]
      }
     ],
     "prompt_number": 18
    },
    {
     "cell_type": "code",
     "collapsed": false,
     "input": [
      "stage.show"
     ],
     "language": "python",
     "metadata": {},
     "outputs": [
      {
       "html": [
        "<div id='vis-0d8d2a40-a790-4dcb-a8b1-99a14cd08863'></div>\n",
        "<script>\n",
        "(function(){\n",
        "    var render = function(){\n",
        "        var model = {\"data\":{\"data1\":[{\"name\":\"type1\",\"val1\":48,\"val2\":13},{\"name\":\"type2\",\"val1\":20,\"val2\":25},{\"name\":\"type3\",\"val1\":4,\"val2\":11},{\"name\":\"type4\",\"val1\":12,\"val2\":34},{\"name\":\"type5\",\"val1\":22,\"val2\":34}]},\"panes\":[{\"diagrams\":[{\"type\":\"bar\",\"data\":\"data1\",\"options\":{\"x\":\"name\",\"y\":\"val1\"}}],\"options\":{\"width\":500,\"height\":500,\"xrange\":[\"type1\",\"type2\",\"type3\",\"type4\",\"type5\"],\"yrange\":[0,50]}}]}\n",
        "        Nyaplot.core.parse(model, '#vis-0d8d2a40-a790-4dcb-a8b1-99a14cd08863');\n",
        "    };\n",
        "    if(window['Nyaplot']==undefined){\n",
        "        window.addEventListener('load_nyaplot', render, false);\n",
        "    }else render();\n",
        "})();\n",
        "</script>\n"
       ],
       "metadata": {},
       "output_type": "pyout",
       "prompt_number": 19,
       "text": [
        "\"<div id='vis-0d8d2a40-a790-4dcb-a8b1-99a14cd08863'></div>\\n<script>\\n(function(){\\n    var render = function(){\\n        var model = {\\\"data\\\":{\\\"data1\\\":[{\\\"name\\\":\\\"type1\\\",\\\"val1\\\":48,\\\"val2\\\":13},{\\\"name\\\":\\\"type2\\\",\\\"val1\\\":20,\\\"val2\\\":25},{\\\"name\\\":\\\"type3\\\",\\\"val1\\\":4,\\\"val2\\\":11},{\\\"name\\\":\\\"type4\\\",\\\"val1\\\":12,\\\"val2\\\":34},{\\\"name\\\":\\\"type5\\\",\\\"val1\\\":22,\\\"val2\\\":34}]},\\\"panes\\\":[{\\\"diagrams\\\":[{\\\"type\\\":\\\"bar\\\",\\\"data\\\":\\\"data1\\\",\\\"options\\\":{\\\"x\\\":\\\"name\\\",\\\"y\\\":\\\"val1\\\"}}],\\\"options\\\":{\\\"width\\\":500,\\\"height\\\":500,\\\"xrange\\\":[\\\"type1\\\",\\\"type2\\\",\\\"type3\\\",\\\"type4\\\",\\\"type5\\\"],\\\"yrange\\\":[0,50]}}]}\\n        Nyaplot.core.parse(model, '#vis-0d8d2a40-a790-4dcb-a8b1-99a14cd08863');\\n    };\\n    if(window['Nyaplot']==undefined){\\n        window.addEventListener('load_nyaplot', render, false);\\n    }else render();\\n})();\\n</script>\\n\""
       ]
      }
     ],
     "prompt_number": 19
    },
    {
     "cell_type": "code",
     "collapsed": false,
     "input": [],
     "language": "python",
     "metadata": {},
     "outputs": [],
     "prompt_number": 20
    },
    {
     "cell_type": "code",
     "collapsed": false,
     "input": [],
     "language": "python",
     "metadata": {},
     "outputs": []
    }
   ],
   "metadata": {}
  }
 ]
}