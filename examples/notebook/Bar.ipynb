{
 "metadata": {
  "language": "ruby",
  "name": ""
 },
 "nbformat": 3,
 "nbformat_minor": 0,
 "worksheets": [
  {
   "cells": [
    {
     "cell_type": "code",
     "collapsed": false,
     "input": [
      "require 'ecolirb'"
     ],
     "language": "python",
     "metadata": {},
     "outputs": [
      {
       "metadata": {},
       "output_type": "pyout",
       "prompt_number": 1,
       "text": [
        "true"
       ]
      }
     ],
     "prompt_number": 1
    },
    {
     "cell_type": "code",
     "collapsed": false,
     "input": [
      "Ecolirb.init_iruby"
     ],
     "language": "python",
     "metadata": {},
     "outputs": [
      {
       "html": [
        "<script>if(window['d3'] === undefined ||\n",
        "   window['Ecoli'] === undefined){\n",
        "    var paths = {\n",
        "\td3: 'http://d3js.org/d3.v3.min',\n",
        "\tecoli: 'https://rawgit.com/domitry/Ecolijs/master/release/ecoli'\n",
        "    };\n",
        "\n",
        "    require.config({paths: paths});\n",
        "\n",
        "    require(['d3'], function(d3){\n",
        "\twindow['d3'] = d3;\n",
        "\tconsole.log('Finished loading d3.js');\n",
        "\trequire(['ecoli'], function(Ecoli){\n",
        "\t    window['Ecoli'] = Ecoli;\n",
        "\t    console.log('Finished loading Ecolijs');\n",
        "\t    for(var key in paths){\n",
        "\t\td3.select('head')\n",
        "\t\t    .append('script')\n",
        "\t\t    .attr('type', 'text/javascript')\n",
        "\t\t    .attr('src', paths[key] + '.js');\n",
        "\t    }\n",
        "\t});\n",
        "    });\n",
        "}\n",
        "</script>"
       ],
       "metadata": {},
       "output_type": "pyout",
       "prompt_number": 2,
       "text": [
        "\"<script>if(window['d3'] === undefined ||\\n   window['Ecoli'] === undefined){\\n    var paths = {\\n\\td3: 'http://d3js.org/d3.v3.min',\\n\\tecoli: 'https://rawgit.com/domitry/Ecolijs/master/release/ecoli'\\n    };\\n\\n    require.config({paths: paths});\\n\\n    require(['d3'], function(d3){\\n\\twindow['d3'] = d3;\\n\\tconsole.log('Finished loading d3.js');\\n\\trequire(['ecoli'], function(Ecoli){\\n\\t    window['Ecoli'] = Ecoli;\\n\\t    console.log('Finished loading Ecolijs');\\n\\t    for(var key in paths){\\n\\t\\td3.select('head')\\n\\t\\t    .append('script')\\n\\t\\t    .attr('type', 'text/javascript')\\n\\t\\t    .attr('src', paths[key] + '.js');\\n\\t    }\\n\\t});\\n    });\\n}\\n</script>\""
       ]
      }
     ],
     "prompt_number": 2
    },
    {
     "cell_type": "code",
     "collapsed": false,
     "input": [
      "bar = Ecolirb::Diagram.new do\n",
      "  type 'bar'\n",
      "  data 'data1'\n",
      "  options({x:'name', y:'val1'})\n",
      "end"
     ],
     "language": "python",
     "metadata": {},
     "outputs": [
      {
       "metadata": {},
       "output_type": "pyout",
       "prompt_number": 22,
       "text": [
        "#<Ecolirb::Diagram:0xb8f37178 @properties={:type=>\"bar\", :data=>\"data1\", :options=>{:x=>\"name\", :y=>\"val1\"}}>"
       ]
      }
     ],
     "prompt_number": 22
    },
    {
     "cell_type": "code",
     "collapsed": false,
     "input": [
      "pane = Ecolirb::Pane.new do \n",
      "  diagrams [bar]\n",
      "  options({width:500, height:500, xrange: ['type1','type2','type3','type4','type5'], yrange: [0,50]})\n",
      "end"
     ],
     "language": "python",
     "metadata": {},
     "outputs": [
      {
       "metadata": {},
       "output_type": "pyout",
       "prompt_number": 31,
       "text": [
        "#<Ecolirb::Pane:0xb9235e38 @properties={:diagrams=>[#<Ecolirb::Diagram:0xb8f37178 @properties={:type=>\"bar\", :data=>\"data1\", :options=>{:x=>\"name\", :y=>\"val1\"}}>], :options=>{:width=>500, :height=>500, :xrange=>[\"type1\", \"type2\", \"type3\", \"type4\", \"type5\"], :yrange=>[0, 50]}}>"
       ]
      }
     ],
     "prompt_number": 31
    },
    {
     "cell_type": "code",
     "collapsed": false,
     "input": [
      "data = [{name:'type1',val1:48,val2:13}, {name:'type2',val1:20,val2:25}, {name:'type3',val1:4,val2:11}, {name:'type4',val1:12,val2:34}, {name:'type5',val1:22,val2:34}]\n",
      "stage = Ecolirb::Stage.new do\n",
      "  data({data1:data})\n",
      "  panes [pane]\n",
      "end"
     ],
     "language": "python",
     "metadata": {},
     "outputs": [
      {
       "html": [
        "<html lang='en'>\n",
        "<head>\n",
        "  <title>Ecolirb</title>\n",
        "  <script src='http://d3js.org/d3.v3.min.js'></script>\n",
        "  <script src='https://rawgit.com/domitry/Ecolijs/master/release/ecoli.min.js'></script>\n",
        "</head>\n",
        "<body>\n",
        "<div id='vis'></div>\n",
        "<script>\n",
        "model = {\"data\":{\"data1\":[{\"name\":\"type1\",\"val1\":48,\"val2\":13},{\"name\":\"type2\",\"val1\":20,\"val2\":25},{\"name\":\"type3\",\"val1\":4,\"val2\":11},{\"name\":\"type4\",\"val1\":12,\"val2\":34},{\"name\":\"type5\",\"val1\":22,\"val2\":34}]},\"panes\":[{\"diagrams\":[{\"type\":\"bar\",\"data\":\"data1\",\"options\":{\"x\":\"name\",\"y\":\"val1\"}}],\"options\":{\"width\":500,\"height\":500,\"xrange\":[\"type1\",\"type2\",\"type3\",\"type4\",\"type5\"],\"yrange\":[0,50]}}]}\n",
        "window.onload = function(){Ecoli.core.parse(model, '#vis');};\n",
        "</script>\n",
        "</body>\n",
        "</html>\n"
       ],
       "metadata": {},
       "output_type": "pyout",
       "prompt_number": 32,
       "text": [
        "#<Ecolirb::Stage:0xb923fb68 @properties={:data=>{:data1=>[{:name=>\"type1\", :val1=>48, :val2=>13}, {:name=>\"type2\", :val1=>20, :val2=>25}, {:name=>\"type3\", :val1=>4, :val2=>11}, {:name=>\"type4\", :val1=>12, :val2=>34}, {:name=>\"type5\", :val1=>22, :val2=>34}]}, :panes=>[#<Ecolirb::Pane:0xb9235e38 @properties={:diagrams=>[#<Ecolirb::Diagram:0xb8f37178 @properties={:type=>\"bar\", :data=>\"data1\", :options=>{:x=>\"name\", :y=>\"val1\"}}>], :options=>{:width=>500, :height=>500, :xrange=>[\"type1\", \"type2\", \"type3\", \"type4\", \"type5\"], :yrange=>[0, 50]}}>]}>"
       ]
      }
     ],
     "prompt_number": 32
    },
    {
     "cell_type": "code",
     "collapsed": false,
     "input": [
      "stage.show"
     ],
     "language": "python",
     "metadata": {},
     "outputs": [
      {
       "html": [
        "<html lang='en'>\n",
        "<head>\n",
        "  <title>Ecolirb</title>\n",
        "</head>\n",
        "<body>\n",
        "<div id='vis-d3dfd9f6-a8be-4b55-9a08-08c9813a10e3'></div>\n",
        "<script>\n",
        "model = {\"data\":{\"data1\":[{\"name\":\"type1\",\"val1\":48,\"val2\":13},{\"name\":\"type2\",\"val1\":20,\"val2\":25},{\"name\":\"type3\",\"val1\":4,\"val2\":11},{\"name\":\"type4\",\"val1\":12,\"val2\":34},{\"name\":\"type5\",\"val1\":22,\"val2\":34}]},\"panes\":[{\"diagrams\":[{\"type\":\"bar\",\"data\":\"data1\",\"options\":{\"x\":\"name\",\"y\":\"val1\"}}],\"options\":{\"width\":500,\"height\":500,\"xrange\":[\"type1\",\"type2\",\"type3\",\"type4\",\"type5\"],\"yrange\":[0,50]}}]}\n",
        "Ecoli.core.parse(model, '#vis-d3dfd9f6-a8be-4b55-9a08-08c9813a10e3');\n",
        "</script>\n",
        "</body>\n",
        "</html>\n"
       ],
       "metadata": {},
       "output_type": "pyout",
       "prompt_number": 33,
       "text": [
        "\"<html lang='en'>\\n<head>\\n  <title>Ecolirb</title>\\n</head>\\n<body>\\n<div id='vis-d3dfd9f6-a8be-4b55-9a08-08c9813a10e3'></div>\\n<script>\\nmodel = {\\\"data\\\":{\\\"data1\\\":[{\\\"name\\\":\\\"type1\\\",\\\"val1\\\":48,\\\"val2\\\":13},{\\\"name\\\":\\\"type2\\\",\\\"val1\\\":20,\\\"val2\\\":25},{\\\"name\\\":\\\"type3\\\",\\\"val1\\\":4,\\\"val2\\\":11},{\\\"name\\\":\\\"type4\\\",\\\"val1\\\":12,\\\"val2\\\":34},{\\\"name\\\":\\\"type5\\\",\\\"val1\\\":22,\\\"val2\\\":34}]},\\\"panes\\\":[{\\\"diagrams\\\":[{\\\"type\\\":\\\"bar\\\",\\\"data\\\":\\\"data1\\\",\\\"options\\\":{\\\"x\\\":\\\"name\\\",\\\"y\\\":\\\"val1\\\"}}],\\\"options\\\":{\\\"width\\\":500,\\\"height\\\":500,\\\"xrange\\\":[\\\"type1\\\",\\\"type2\\\",\\\"type3\\\",\\\"type4\\\",\\\"type5\\\"],\\\"yrange\\\":[0,50]}}]}\\nEcoli.core.parse(model, '#vis-d3dfd9f6-a8be-4b55-9a08-08c9813a10e3');\\n</script>\\n</body>\\n</html>\\n\""
       ]
      }
     ],
     "prompt_number": 33
    },
    {
     "cell_type": "code",
     "collapsed": false,
     "input": [],
     "language": "python",
     "metadata": {},
     "outputs": []
    }
   ],
   "metadata": {}
  }
 ]
}