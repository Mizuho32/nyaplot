{
 "metadata": {
  "language": "ruby",
  "name": ""
 },
 "nbformat": 3,
 "nbformat_minor": 0,
 "worksheets": [
  {
   "cells": [
    {
     "cell_type": "code",
     "collapsed": false,
     "input": [
      "require 'nyaplot'"
     ],
     "language": "python",
     "metadata": {},
     "outputs": [
      {
       "metadata": {},
       "output_type": "pyout",
       "prompt_number": 32,
       "text": [
        "false"
       ]
      }
     ],
     "prompt_number": 32
    },
    {
     "cell_type": "code",
     "collapsed": false,
     "input": [
      "Nyaplot.init_iruby"
     ],
     "language": "python",
     "metadata": {},
     "outputs": [
      {
       "html": [
        "<script>if(window['d3'] === undefined ||\n",
        "   window['Ecoli'] === undefined){\n",
        "    var paths = {\n",
        "\td3: 'http://d3js.org/d3.v3.min',\n",
        "\tecoli: 'https://rawgit.com/domitry/Ecolijs/master/release/ecoli'\n",
        "    };\n",
        "\n",
        "    require.config({paths: paths});\n",
        "\n",
        "    require(['d3'], function(d3){\n",
        "\twindow['d3'] = d3;\n",
        "\tconsole.log('Finished loading d3.js');\n",
        "\trequire(['ecoli'], function(Ecoli){\n",
        "\t    window['Ecoli'] = Ecoli;\n",
        "\t    var event = document.createEvent(\"HTMLEvents\");\n",
        "\t    event.initEvent(\"load_ecoli\",false,false);\n",
        "\n",
        "\t    console.log('Finished loading Ecolijs');\n",
        "\t    for(var key in paths){\n",
        "\t\td3.select('head')\n",
        "\t\t    .append('script')\n",
        "\t\t    .attr('type', 'text/javascript')\n",
        "\t\t    .attr('src', paths[key] + '.js');\n",
        "\t    }\n",
        "\t    window.dispatchEvent(event);\n",
        "\t});\n",
        "    });\n",
        "}\n",
        "</script>"
       ],
       "metadata": {},
       "output_type": "pyout",
       "prompt_number": 33,
       "text": [
        "\"<script>if(window['d3'] === undefined ||\\n   window['Ecoli'] === undefined){\\n    var paths = {\\n\\td3: 'http://d3js.org/d3.v3.min',\\n\\tecoli: 'https://rawgit.com/domitry/Ecolijs/master/release/ecoli'\\n    };\\n\\n    require.config({paths: paths});\\n\\n    require(['d3'], function(d3){\\n\\twindow['d3'] = d3;\\n\\tconsole.log('Finished loading d3.js');\\n\\trequire(['ecoli'], function(Ecoli){\\n\\t    window['Ecoli'] = Ecoli;\\n\\t    var event = document.createEvent(\\\"HTMLEvents\\\");\\n\\t    event.initEvent(\\\"load_ecoli\\\",false,false);\\n\\n\\t    console.log('Finished loading Ecolijs');\\n\\t    for(var key in paths){\\n\\t\\td3.select('head')\\n\\t\\t    .append('script')\\n\\t\\t    .attr('type', 'text/javascript')\\n\\t\\t    .attr('src', paths[key] + '.js');\\n\\t    }\\n\\t    window.dispatchEvent(event);\\n\\t});\\n    });\\n}\\n</script>\""
       ]
      }
     ],
     "prompt_number": 33
    },
    {
     "cell_type": "code",
     "collapsed": false,
     "input": [
      "bar = Nyaplot::Diagram.new do\n",
      "  type 'bar'\n",
      "  data 'data1'\n",
      "  options({x:'name', y:'val1'})\n",
      "end"
     ],
     "language": "python",
     "metadata": {},
     "outputs": [
      {
       "metadata": {},
       "output_type": "pyout",
       "prompt_number": 34,
       "text": [
        "#<Nyaplot::Diagram:0xb8be5574 @properties={:type=>\"bar\", :data=>\"data1\", :options=>{:x=>\"name\", :y=>\"val1\"}}>"
       ]
      }
     ],
     "prompt_number": 34
    },
    {
     "cell_type": "code",
     "collapsed": false,
     "input": [
      "pane = Nyaplot::Pane.new do \n",
      "  diagrams [bar]\n",
      "  options({width:500, height:500, xrange: ['type1','type2','type3','type4','type5'], yrange: [0,50]})\n",
      "end"
     ],
     "language": "python",
     "metadata": {},
     "outputs": [
      {
       "metadata": {},
       "output_type": "pyout",
       "prompt_number": 35,
       "text": [
        "#<Nyaplot::Pane:0xb8beec14 @properties={:diagrams=>[#<Nyaplot::Diagram:0xb8be5574 @properties={:type=>\"bar\", :data=>\"data1\", :options=>{:x=>\"name\", :y=>\"val1\"}}>], :options=>{:width=>500, :height=>500, :xrange=>[\"type1\", \"type2\", \"type3\", \"type4\", \"type5\"], :yrange=>[0, 50]}}>"
       ]
      }
     ],
     "prompt_number": 35
    },
    {
     "cell_type": "code",
     "collapsed": false,
     "input": [
      "data = [{name:'type1',val1:48,val2:13}, {name:'type2',val1:20,val2:25}, {name:'type3',val1:4,val2:11}, {name:'type4',val1:12,val2:34}, {name:'type5',val1:22,val2:34}]\n",
      "stage = Nyaplot::Stage.new do\n",
      "  data({data1:data})\n",
      "  panes [pane]\n",
      "end"
     ],
     "language": "python",
     "metadata": {},
     "outputs": [
      {
       "html": [
        "<html lang='en'>\n",
        "<head>\n",
        "  <title>Nyaplot</title>\n",
        "  <script src='http://d3js.org/d3.v3.min.js'></script>\n",
        "  <script src='https://rawgit.com/domitry/Ecolijs/master/release/ecoli.min.js'></script>\n",
        "</head>\n",
        "<body>\n",
        "<div id='vis'></div>\n",
        "<script>\n",
        "model = {\"data\":{\"data1\":[{\"name\":\"type1\",\"val1\":48,\"val2\":13},{\"name\":\"type2\",\"val1\":20,\"val2\":25},{\"name\":\"type3\",\"val1\":4,\"val2\":11},{\"name\":\"type4\",\"val1\":12,\"val2\":34},{\"name\":\"type5\",\"val1\":22,\"val2\":34}]},\"panes\":[{\"diagrams\":[{\"type\":\"bar\",\"data\":\"data1\",\"options\":{\"x\":\"name\",\"y\":\"val1\"}}],\"options\":{\"width\":500,\"height\":500,\"xrange\":[\"type1\",\"type2\",\"type3\",\"type4\",\"type5\"],\"yrange\":[0,50]}}]}\n",
        "window.onload = function(){Ecoli.core.parse(model, '#vis');};\n",
        "</script>\n",
        "</body>\n",
        "</html>\n"
       ],
       "metadata": {},
       "output_type": "pyout",
       "prompt_number": 36,
       "text": [
        "#<Nyaplot::Stage:0xb8bf1d10 @properties={:data=>{:data1=>[{:name=>\"type1\", :val1=>48, :val2=>13}, {:name=>\"type2\", :val1=>20, :val2=>25}, {:name=>\"type3\", :val1=>4, :val2=>11}, {:name=>\"type4\", :val1=>12, :val2=>34}, {:name=>\"type5\", :val1=>22, :val2=>34}]}, :panes=>[#<Nyaplot::Pane:0xb8beec14 @properties={:diagrams=>[#<Nyaplot::Diagram:0xb8be5574 @properties={:type=>\"bar\", :data=>\"data1\", :options=>{:x=>\"name\", :y=>\"val1\"}}>], :options=>{:width=>500, :height=>500, :xrange=>[\"type1\", \"type2\", \"type3\", \"type4\", \"type5\"], :yrange=>[0, 50]}}>]}>"
       ]
      }
     ],
     "prompt_number": 36
    },
    {
     "cell_type": "code",
     "collapsed": false,
     "input": [
      "stage.show"
     ],
     "language": "python",
     "metadata": {},
     "outputs": [
      {
       "html": [
        "<div id='vis-97427d7b-d6ba-4e89-937a-444213e0cc96'></div>\n",
        "<script>\n",
        "(function(){\n",
        "    var render = function(){\n",
        "        var model = {\"data\":{\"data1\":[{\"name\":\"type1\",\"val1\":48,\"val2\":13},{\"name\":\"type2\",\"val1\":20,\"val2\":25},{\"name\":\"type3\",\"val1\":4,\"val2\":11},{\"name\":\"type4\",\"val1\":12,\"val2\":34},{\"name\":\"type5\",\"val1\":22,\"val2\":34}]},\"panes\":[{\"diagrams\":[{\"type\":\"bar\",\"data\":\"data1\",\"options\":{\"x\":\"name\",\"y\":\"val1\"}}],\"options\":{\"width\":500,\"height\":500,\"xrange\":[\"type1\",\"type2\",\"type3\",\"type4\",\"type5\"],\"yrange\":[0,50]}}]}\n",
        "        Ecoli.core.parse(model, '#vis-97427d7b-d6ba-4e89-937a-444213e0cc96');\n",
        "    };\n",
        "    if(window['Ecoli']==undefined){\n",
        "        window.addEventListener('load_ecoli', render, false);\n",
        "    }else render();\n",
        "})();\n",
        "</script>\n"
       ],
       "metadata": {},
       "output_type": "pyout",
       "prompt_number": 37,
       "text": [
        "\"<div id='vis-97427d7b-d6ba-4e89-937a-444213e0cc96'></div>\\n<script>\\n(function(){\\n    var render = function(){\\n        var model = {\\\"data\\\":{\\\"data1\\\":[{\\\"name\\\":\\\"type1\\\",\\\"val1\\\":48,\\\"val2\\\":13},{\\\"name\\\":\\\"type2\\\",\\\"val1\\\":20,\\\"val2\\\":25},{\\\"name\\\":\\\"type3\\\",\\\"val1\\\":4,\\\"val2\\\":11},{\\\"name\\\":\\\"type4\\\",\\\"val1\\\":12,\\\"val2\\\":34},{\\\"name\\\":\\\"type5\\\",\\\"val1\\\":22,\\\"val2\\\":34}]},\\\"panes\\\":[{\\\"diagrams\\\":[{\\\"type\\\":\\\"bar\\\",\\\"data\\\":\\\"data1\\\",\\\"options\\\":{\\\"x\\\":\\\"name\\\",\\\"y\\\":\\\"val1\\\"}}],\\\"options\\\":{\\\"width\\\":500,\\\"height\\\":500,\\\"xrange\\\":[\\\"type1\\\",\\\"type2\\\",\\\"type3\\\",\\\"type4\\\",\\\"type5\\\"],\\\"yrange\\\":[0,50]}}]}\\n        Ecoli.core.parse(model, '#vis-97427d7b-d6ba-4e89-937a-444213e0cc96');\\n    };\\n    if(window['Ecoli']==undefined){\\n        window.addEventListener('load_ecoli', render, false);\\n    }else render();\\n})();\\n</script>\\n\""
       ]
      }
     ],
     "prompt_number": 37
    },
    {
     "cell_type": "code",
     "collapsed": false,
     "input": [],
     "language": "python",
     "metadata": {},
     "outputs": []
    }
   ],
   "metadata": {}
  }
 ]
}