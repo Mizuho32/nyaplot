{
 "metadata": {
  "language": "ruby",
  "name": ""
 },
 "nbformat": 3,
 "nbformat_minor": 0,
 "worksheets": [
  {
   "cells": [
    {
     "cell_type": "code",
     "collapsed": false,
     "input": [
      "require 'nyaplot'\n",
      "require 'bionya'"
     ],
     "language": "python",
     "metadata": {},
     "outputs": [
      {
       "metadata": {},
       "output_type": "pyout",
       "prompt_number": 1,
       "text": [
        "true"
       ]
      }
     ],
     "prompt_number": 1
    },
    {
     "cell_type": "code",
     "collapsed": false,
     "input": [
      "Nyaplot.init_iruby"
     ],
     "language": "python",
     "metadata": {},
     "outputs": [
      {
       "html": [
        "<script>\n",
        "if(window['d3'] === undefined ||\n",
        "   window['Nyaplot'] === undefined){\n",
        "    var path = {\"d3\":\"http://d3js.org/d3.v3.min\",\"Bionya\":\"https://rawgit.com/domitry/nyaplot/master/lib/bionya/js/release/bionya\"};\n",
        "\n",
        "\n",
        "\n",
        "    var shim = {\"d3\":{\"exports\":\"d3\"},\"Bionya\":{\"exports\":\"Bionya\"}};\n",
        "\n",
        "    require.config({paths: path, shim:shim});\n",
        "\n",
        "\n",
        "require(['d3'], function(d3){window['d3']=d3;console.log('finished loading d3');\n",
        "\n",
        "\tvar script = d3.select(\"head\")\n",
        "\t    .append(\"script\")\n",
        "\t    .attr(\"src\", \"https://rawgit.com/domitry/Nyaplotjs/master/release/nyaplot.js\")\n",
        "\t    .attr(\"async\", true);\n",
        "\n",
        "\tscript[0][0].onload = script[0][0].onreadystatechange = function(){\n",
        "\n",
        "require(['Bionya'], function(Bionya){window['Bionya']=Bionya;console.log('finished loading Bionya');\n",
        "\t    var event = document.createEvent(\"HTMLEvents\");\n",
        "\t    event.initEvent(\"load_nyaplot\",false,false);\n",
        "\t    window.dispatchEvent(event);\n",
        "\t    console.log('Finished loading Nyaplotjs');\n",
        "});\n",
        "\t};\n",
        "\n",
        "\n",
        "});\n",
        "}\n",
        "</script>\n"
       ],
       "metadata": {},
       "output_type": "pyout",
       "prompt_number": 2,
       "text": [
        "\"<script>\\nif(window['d3'] === undefined ||\\n   window['Nyaplot'] === undefined){\\n    var path = {\\\"d3\\\":\\\"http://d3js.org/d3.v3.min\\\",\\\"Bionya\\\":\\\"https://rawgit.com/domitry/nyaplot/master/lib/bionya/js/release/bionya\\\"};\\n\\n\\n\\n    var shim = {\\\"d3\\\":{\\\"exports\\\":\\\"d3\\\"},\\\"Bionya\\\":{\\\"exports\\\":\\\"Bionya\\\"}};\\n\\n    require.config({paths: path, shim:shim});\\n\\n\\nrequire(['d3'], function(d3){window['d3']=d3;console.log('finished loading d3');\\n\\n\\tvar script = d3.select(\\\"head\\\")\\n\\t    .append(\\\"script\\\")\\n\\t    .attr(\\\"src\\\", \\\"https://rawgit.com/domitry/Nyaplotjs/master/release/nyaplot.js\\\")\\n\\t    .attr(\\\"async\\\", true);\\n\\n\\tscript[0][0].onload = script[0][0].onreadystatechange = function(){\\n\\nrequire(['Bionya'], function(Bionya){window['Bionya']=Bionya;console.log('finished loading Bionya');\\n\\t    var event = document.createEvent(\\\"HTMLEvents\\\");\\n\\t    event.initEvent(\\\"load_nyaplot\\\",false,false);\\n\\t    window.dispatchEvent(event);\\n\\t    console.log('Finished loading Nyaplotjs');\\n});\\n\\t};\\n\\n\\n});\\n}\\n</script>\\n\""
       ]
      }
     ],
     "prompt_number": 2
    },
    {
     "cell_type": "code",
     "collapsed": false,
     "input": [
      "arr = []\n",
      "10.times do |i|\n",
      "  arr.push({group: 'group' + i.to_s ,df: Nyaplot::DataFrame.new({axis: ['a', 'b', 'c'], val: [2, 3, 4]})})\n",
      "end\n",
      "df = Nyaplot::DataFrame.new(arr)"
     ],
     "language": "python",
     "metadata": {},
     "outputs": [
      {
       "html": [
        "<table><tr><th>group</th><th>df</th></tr><tr><td>group0</td><td><table><tr><th>axis</th><th>val</th></tr><tr><td>a</td><td>2</td></tr><tr><td>b</td><td>3</td></tr><tr><td>c</td><td>4</td></tr></table></td></tr><tr><td>group1</td><td><table><tr><th>axis</th><th>val</th></tr><tr><td>a</td><td>2</td></tr><tr><td>b</td><td>3</td></tr><tr><td>c</td><td>4</td></tr></table></td></tr><tr><td>group2</td><td><table><tr><th>axis</th><th>val</th></tr><tr><td>a</td><td>2</td></tr><tr><td>b</td><td>3</td></tr><tr><td>c</td><td>4</td></tr></table></td></tr><tr><td>group3</td><td><table><tr><th>axis</th><th>val</th></tr><tr><td>a</td><td>2</td></tr><tr><td>b</td><td>3</td></tr><tr><td>c</td><td>4</td></tr></table></td></tr><tr><td>group4</td><td><table><tr><th>axis</th><th>val</th></tr><tr><td>a</td><td>2</td></tr><tr><td>b</td><td>3</td></tr><tr><td>c</td><td>4</td></tr></table></td></tr><tr><td>group5</td><td><table><tr><th>axis</th><th>val</th></tr><tr><td>a</td><td>2</td></tr><tr><td>b</td><td>3</td></tr><tr><td>c</td><td>4</td></tr></table></td></tr><tr><td>group6</td><td><table><tr><th>axis</th><th>val</th></tr><tr><td>a</td><td>2</td></tr><tr><td>b</td><td>3</td></tr><tr><td>c</td><td>4</td></tr></table></td></tr><tr><td>group7</td><td><table><tr><th>axis</th><th>val</th></tr><tr><td>a</td><td>2</td></tr><tr><td>b</td><td>3</td></tr><tr><td>c</td><td>4</td></tr></table></td></tr><tr><td>group8</td><td><table><tr><th>axis</th><th>val</th></tr><tr><td>a</td><td>2</td></tr><tr><td>b</td><td>3</td></tr><tr><td>c</td><td>4</td></tr></table></td></tr><tr><td>group9</td><td><table><tr><th>axis</th><th>val</th></tr><tr><td>a</td><td>2</td></tr><tr><td>b</td><td>3</td></tr><tr><td>c</td><td>4</td></tr></table></td></tr></table>"
       ],
       "metadata": {},
       "output_type": "pyout",
       "prompt_number": 3,
       "text": [
        "#<Nyaplot::DataFrame:0xb8ba1bf8 @name=\"7b743486-ba83-4ba2-823a-809a2cfffc89\", @rows=[{:group=>\"group0\", :df=>#<Nyaplot::DataFrame:0xb8ba3a5c @name=\"57c7bde4-7851-464f-ad6d-409fba24c940\", @rows=[{:axis=>\"a\", :val=>2}, {:axis=>\"b\", :val=>3}, {:axis=>\"c\", :val=>4}]>}, {:group=>\"group1\", :df=>#<Nyaplot::DataFrame:0xb8ba3750 @name=\"06b44f57-3a58-457f-8a2a-ec26295a1e9d\", @rows=[{:axis=>\"a\", :val=>2}, {:axis=>\"b\", :val=>3}, {:axis=>\"c\", :val=>4}]>}, {:group=>\"group2\", :df=>#<Nyaplot::DataFrame:0xb8ba34bc @name=\"5a122ce1-b0ca-4df2-bb53-a9f1e40af67a\", @rows=[{:axis=>\"a\", :val=>2}, {:axis=>\"b\", :val=>3}, {:axis=>\"c\", :val=>4}]>}, {:group=>\"group3\", :df=>#<Nyaplot::DataFrame:0xb8ba31b0 @name=\"8533e5ae-26e6-4557-850c-4e6e67b9422e\", @rows=[{:axis=>\"a\", :val=>2}, {:axis=>\"b\", :val=>3}, {:axis=>\"c\", :val=>4}]>}, {:group=>\"group4\", :df=>#<Nyaplot::DataFrame:0xb8ba2e90 @name=\"c70cc5d7-2a39-4e2a-977c-37d05a3f1deb\", @rows=[{:axis=>\"a\", :val=>2}, {:axis=>\"b\", :val=>3}, {:axis=>\"c\", :val=>4}]>}, {:group=>\"group5\", :df=>#<Nyaplot::DataFrame:0xb8ba2b70 @name=\"6651ce26-910d-43bf-baad-33d6c99f3fc6\", @rows=[{:axis=>\"a\", :val=>2}, {:axis=>\"b\", :val=>3}, {:axis=>\"c\", :val=>4}]>}, {:group=>\"group6\", :df=>#<Nyaplot::DataFrame:0xb8ba2814 @name=\"e11717c4-8553-4eb2-b5f3-d1f9643e74d1\", @rows=[{:axis=>\"a\", :val=>2}, {:axis=>\"b\", :val=>3}, {:axis=>\"c\", :val=>4}]>}, {:group=>\"group7\", :df=>#<Nyaplot::DataFrame:0xb8ba2508 @name=\"b128b5ce-65b3-4bd4-afa1-50cea56c3018\", @rows=[{:axis=>\"a\", :val=>2}, {:axis=>\"b\", :val=>3}, {:axis=>\"c\", :val=>4}]>}, {:group=>\"group8\", :df=>#<Nyaplot::DataFrame:0xb8ba215c @name=\"4870f5b4-764a-4341-b97f-b6e60aa3d931\", @rows=[{:axis=>\"a\", :val=>2}, {:axis=>\"b\", :val=>3}, {:axis=>\"c\", :val=>4}]>}, {:group=>\"group9\", :df=>#<Nyaplot::DataFrame:0xb8ba1e50 @name=\"cd8588b2-a01c-4382-877b-fa29e7e23ab4\", @rows=[{:axis=>\"a\", :val=>2}, {:axis=>\"b\", :val=>3}, {:axis=>\"c\", :val=>4}]>}]>"
       ]
      }
     ],
     "prompt_number": 3
    },
    {
     "cell_type": "code",
     "collapsed": false,
     "input": [
      "plot = Nyaplot::CircularPlot.new(df, :group, :df)"
     ],
     "language": "python",
     "metadata": {},
     "outputs": [
      {
       "metadata": {},
       "output_type": "pyout",
       "prompt_number": 4,
       "text": [
        "#<Nyaplot::CircularPlot:0xb8bcf83c @properties={:diagrams=>[], :options=>{}, :extension=>\"Bionya\"}, @df=#<Nyaplot::DataFrame:0xb8ba1bf8 @name=\"7b743486-ba83-4ba2-823a-809a2cfffc89\", @rows=[{:group=>\"group0\", :df=>#<Nyaplot::DataFrame:0xb8ba3a5c @name=\"57c7bde4-7851-464f-ad6d-409fba24c940\", @rows=[{:axis=>\"a\", :val=>2}, {:axis=>\"b\", :val=>3}, {:axis=>\"c\", :val=>4}]>}, {:group=>\"group1\", :df=>#<Nyaplot::DataFrame:0xb8ba3750 @name=\"06b44f57-3a58-457f-8a2a-ec26295a1e9d\", @rows=[{:axis=>\"a\", :val=>2}, {:axis=>\"b\", :val=>3}, {:axis=>\"c\", :val=>4}]>}, {:group=>\"group2\", :df=>#<Nyaplot::DataFrame:0xb8ba34bc @name=\"5a122ce1-b0ca-4df2-bb53-a9f1e40af67a\", @rows=[{:axis=>\"a\", :val=>2}, {:axis=>\"b\", :val=>3}, {:axis=>\"c\", :val=>4}]>}, {:group=>\"group3\", :df=>#<Nyaplot::DataFrame:0xb8ba31b0 @name=\"8533e5ae-26e6-4557-850c-4e6e67b9422e\", @rows=[{:axis=>\"a\", :val=>2}, {:axis=>\"b\", :val=>3}, {:axis=>\"c\", :val=>4}]>}, {:group=>\"group4\", :df=>#<Nyaplot::DataFrame:0xb8ba2e90 @name=\"c70cc5d7-2a39-4e2a-977c-37d05a3f1deb\", @rows=[{:axis=>\"a\", :val=>2}, {:axis=>\"b\", :val=>3}, {:axis=>\"c\", :val=>4}]>}, {:group=>\"group5\", :df=>#<Nyaplot::DataFrame:0xb8ba2b70 @name=\"6651ce26-910d-43bf-baad-33d6c99f3fc6\", @rows=[{:axis=>\"a\", :val=>2}, {:axis=>\"b\", :val=>3}, {:axis=>\"c\", :val=>4}]>}, {:group=>\"group6\", :df=>#<Nyaplot::DataFrame:0xb8ba2814 @name=\"e11717c4-8553-4eb2-b5f3-d1f9643e74d1\", @rows=[{:axis=>\"a\", :val=>2}, {:axis=>\"b\", :val=>3}, {:axis=>\"c\", :val=>4}]>}, {:group=>\"group7\", :df=>#<Nyaplot::DataFrame:0xb8ba2508 @name=\"b128b5ce-65b3-4bd4-afa1-50cea56c3018\", @rows=[{:axis=>\"a\", :val=>2}, {:axis=>\"b\", :val=>3}, {:axis=>\"c\", :val=>4}]>}, {:group=>\"group8\", :df=>#<Nyaplot::DataFrame:0xb8ba215c @name=\"4870f5b4-764a-4341-b97f-b6e60aa3d931\", @rows=[{:axis=>\"a\", :val=>2}, {:axis=>\"b\", :val=>3}, {:axis=>\"c\", :val=>4}]>}, {:group=>\"group9\", :df=>#<Nyaplot::DataFrame:0xb8ba1e50 @name=\"cd8588b2-a01c-4382-877b-fa29e7e23ab4\", @rows=[{:axis=>\"a\", :val=>2}, {:axis=>\"b\", :val=>3}, {:axis=>\"c\", :val=>4}]>}]>, @group_by=:group, @nested_label=:df, @inner_num=0, @outer_num=1, @matrix=nil>"
       ]
      }
     ],
     "prompt_number": 4
    },
    {
     "cell_type": "code",
     "collapsed": false,
     "input": [
      "plot.add(1, :arc, :axis, :val)"
     ],
     "language": "python",
     "metadata": {},
     "outputs": [
      {
       "metadata": {},
       "output_type": "pyout",
       "prompt_number": 5,
       "text": [
        "#<Nyaplot::Diagram:0xb8bdb308 @properties={:type=>:arc, :options=>{:x=>:axis, :y=>:val, :range=>[0, 4], :layer=>1}, :data=>\"7b743486-ba83-4ba2-823a-809a2cfffc89\"}>"
       ]
      }
     ],
     "prompt_number": 5
    },
    {
     "cell_type": "code",
     "collapsed": false,
     "input": [
      "plot.show"
     ],
     "language": "python",
     "metadata": {},
     "outputs": [
      {
       "html": [
        "<div id='vis-1d82f063-a484-4726-8630-924e47b4d263'></div>\n",
        "<script>\n",
        "(function(){\n",
        "    var render = function(){\n",
        "        var model = {\"panes\":[{\"diagrams\":[{\"type\":\"arc\",\"options\":{\"x\":\"axis\",\"y\":\"val\",\"range\":[0,4],\"layer\":1},\"data\":\"7b743486-ba83-4ba2-823a-809a2cfffc89\"}],\"options\":{\"zoom\":true,\"width\":800,\"height\":800,\"axis_extra_options\":{\"group_by\":\"group\",\"inner_num\":0,\"outer_num\":2,\"matrix\":null,\"df_id\":\"7b743486-ba83-4ba2-823a-809a2cfffc89\",\"axis\":\"axis\"}},\"extension\":\"Bionya\"}],\"data\":{\"7b743486-ba83-4ba2-823a-809a2cfffc89\":[{\"group\":\"group0\",\"df\":[{\"axis\":\"a\",\"val\":2},{\"axis\":\"b\",\"val\":3},{\"axis\":\"c\",\"val\":4}]},{\"group\":\"group1\",\"df\":[{\"axis\":\"a\",\"val\":2},{\"axis\":\"b\",\"val\":3},{\"axis\":\"c\",\"val\":4}]},{\"group\":\"group2\",\"df\":[{\"axis\":\"a\",\"val\":2},{\"axis\":\"b\",\"val\":3},{\"axis\":\"c\",\"val\":4}]},{\"group\":\"group3\",\"df\":[{\"axis\":\"a\",\"val\":2},{\"axis\":\"b\",\"val\":3},{\"axis\":\"c\",\"val\":4}]},{\"group\":\"group4\",\"df\":[{\"axis\":\"a\",\"val\":2},{\"axis\":\"b\",\"val\":3},{\"axis\":\"c\",\"val\":4}]},{\"group\":\"group5\",\"df\":[{\"axis\":\"a\",\"val\":2},{\"axis\":\"b\",\"val\":3},{\"axis\":\"c\",\"val\":4}]},{\"group\":\"group6\",\"df\":[{\"axis\":\"a\",\"val\":2},{\"axis\":\"b\",\"val\":3},{\"axis\":\"c\",\"val\":4}]},{\"group\":\"group7\",\"df\":[{\"axis\":\"a\",\"val\":2},{\"axis\":\"b\",\"val\":3},{\"axis\":\"c\",\"val\":4}]},{\"group\":\"group8\",\"df\":[{\"axis\":\"a\",\"val\":2},{\"axis\":\"b\",\"val\":3},{\"axis\":\"c\",\"val\":4}]},{\"group\":\"group9\",\"df\":[{\"axis\":\"a\",\"val\":2},{\"axis\":\"b\",\"val\":3},{\"axis\":\"c\",\"val\":4}]}]},\"extension\":[\"Bionya\"]}\n",
        "        Nyaplot.core.parse(model, '#vis-1d82f063-a484-4726-8630-924e47b4d263');\n",
        "    };\n",
        "    if(window['Nyaplot']==undefined){\n",
        "        window.addEventListener('load_nyaplot', render, false);\n",
        "\treturn;\n",
        "    }\n",
        "    render();\n",
        "})();\n",
        "</script>\n"
       ],
       "metadata": {},
       "output_type": "pyout",
       "prompt_number": 6,
       "text": [
        "\"<div id='vis-1d82f063-a484-4726-8630-924e47b4d263'></div>\\n<script>\\n(function(){\\n    var render = function(){\\n        var model = {\\\"panes\\\":[{\\\"diagrams\\\":[{\\\"type\\\":\\\"arc\\\",\\\"options\\\":{\\\"x\\\":\\\"axis\\\",\\\"y\\\":\\\"val\\\",\\\"range\\\":[0,4],\\\"layer\\\":1},\\\"data\\\":\\\"7b743486-ba83-4ba2-823a-809a2cfffc89\\\"}],\\\"options\\\":{\\\"zoom\\\":true,\\\"width\\\":800,\\\"height\\\":800,\\\"axis_extra_options\\\":{\\\"group_by\\\":\\\"group\\\",\\\"inner_num\\\":0,\\\"outer_num\\\":2,\\\"matrix\\\":null,\\\"df_id\\\":\\\"7b743486-ba83-4ba2-823a-809a2cfffc89\\\",\\\"axis\\\":\\\"axis\\\"}},\\\"extension\\\":\\\"Bionya\\\"}],\\\"data\\\":{\\\"7b743486-ba83-4ba2-823a-809a2cfffc89\\\":[{\\\"group\\\":\\\"group0\\\",\\\"df\\\":[{\\\"axis\\\":\\\"a\\\",\\\"val\\\":2},{\\\"axis\\\":\\\"b\\\",\\\"val\\\":3},{\\\"axis\\\":\\\"c\\\",\\\"val\\\":4}]},{\\\"group\\\":\\\"group1\\\",\\\"df\\\":[{\\\"axis\\\":\\\"a\\\",\\\"val\\\":2},{\\\"axis\\\":\\\"b\\\",\\\"val\\\":3},{\\\"axis\\\":\\\"c\\\",\\\"val\\\":4}]},{\\\"group\\\":\\\"group2\\\",\\\"df\\\":[{\\\"axis\\\":\\\"a\\\",\\\"val\\\":2},{\\\"axis\\\":\\\"b\\\",\\\"val\\\":3},{\\\"axis\\\":\\\"c\\\",\\\"val\\\":4}]},{\\\"group\\\":\\\"group3\\\",\\\"df\\\":[{\\\"axis\\\":\\\"a\\\",\\\"val\\\":2},{\\\"axis\\\":\\\"b\\\",\\\"val\\\":3},{\\\"axis\\\":\\\"c\\\",\\\"val\\\":4}]},{\\\"group\\\":\\\"group4\\\",\\\"df\\\":[{\\\"axis\\\":\\\"a\\\",\\\"val\\\":2},{\\\"axis\\\":\\\"b\\\",\\\"val\\\":3},{\\\"axis\\\":\\\"c\\\",\\\"val\\\":4}]},{\\\"group\\\":\\\"group5\\\",\\\"df\\\":[{\\\"axis\\\":\\\"a\\\",\\\"val\\\":2},{\\\"axis\\\":\\\"b\\\",\\\"val\\\":3},{\\\"axis\\\":\\\"c\\\",\\\"val\\\":4}]},{\\\"group\\\":\\\"group6\\\",\\\"df\\\":[{\\\"axis\\\":\\\"a\\\",\\\"val\\\":2},{\\\"axis\\\":\\\"b\\\",\\\"val\\\":3},{\\\"axis\\\":\\\"c\\\",\\\"val\\\":4}]},{\\\"group\\\":\\\"group7\\\",\\\"df\\\":[{\\\"axis\\\":\\\"a\\\",\\\"val\\\":2},{\\\"axis\\\":\\\"b\\\",\\\"val\\\":3},{\\\"axis\\\":\\\"c\\\",\\\"val\\\":4}]},{\\\"group\\\":\\\"group8\\\",\\\"df\\\":[{\\\"axis\\\":\\\"a\\\",\\\"val\\\":2},{\\\"axis\\\":\\\"b\\\",\\\"val\\\":3},{\\\"axis\\\":\\\"c\\\",\\\"val\\\":4}]},{\\\"group\\\":\\\"group9\\\",\\\"df\\\":[{\\\"axis\\\":\\\"a\\\",\\\"val\\\":2},{\\\"axis\\\":\\\"b\\\",\\\"val\\\":3},{\\\"axis\\\":\\\"c\\\",\\\"val\\\":4}]}]},\\\"extension\\\":[\\\"Bionya\\\"]}\\n        Nyaplot.core.parse(model, '#vis-1d82f063-a484-4726-8630-924e47b4d263');\\n    };\\n    if(window['Nyaplot']==undefined){\\n        window.addEventListener('load_nyaplot', render, false);\\n\\treturn;\\n    }\\n    render();\\n})();\\n</script>\\n\""
       ]
      }
     ],
     "prompt_number": 6
    },
    {
     "cell_type": "code",
     "collapsed": false,
     "input": [],
     "language": "python",
     "metadata": {},
     "outputs": []
    }
   ],
   "metadata": {}
  }
 ]
}