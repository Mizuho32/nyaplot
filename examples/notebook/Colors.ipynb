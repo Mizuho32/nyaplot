{
 "metadata": {
  "language": "ruby",
  "name": ""
 },
 "nbformat": 3,
 "nbformat_minor": 0,
 "worksheets": [
  {
   "cells": [
    {
     "cell_type": "heading",
     "level": 1,
     "metadata": {},
     "source": [
      "Nyaplot Tutorial 3: Picking colors suitable for your plots"
     ]
    },
    {
     "cell_type": "heading",
     "level": 2,
     "metadata": {},
     "source": [
      "Introduction"
     ]
    },
    {
     "cell_type": "markdown",
     "metadata": {},
     "source": [
      "Nyaplot has an interface to various prepared colorsets. All of those colorsets are provided by [Colorbrewer](http://colorbrewer2.org/) that is licensed under [Apache License Version 2.0](https://github.com/domitry/nyaplot/blob/master/lib/nyaplot/colorbrewer/LICENSE)."
     ]
    },
    {
     "cell_type": "code",
     "collapsed": false,
     "input": [
      "require 'nyaplot'"
     ],
     "language": "python",
     "metadata": {},
     "outputs": [
      {
       "html": [
        "<script type='text/javascript'>if(window['d3'] === undefined ||\n",
        "   window['Nyaplot'] === undefined){\n",
        "    var path = {\"d3\":\"http://d3js.org/d3.v3.min\"};\n",
        "\n",
        "\n",
        "\n",
        "    var shim = {\"d3\":{\"exports\":\"d3\"}};\n",
        "\n",
        "    require.config({paths: path, shim:shim});\n",
        "\n",
        "\n",
        "require(['d3'], function(d3){window['d3']=d3;console.log('finished loading d3');\n",
        "\n",
        "\tvar script = d3.select(\"head\")\n",
        "\t    .append(\"script\")\n",
        "\t    .attr(\"src\", \"https://rawgit.com/domitry/Nyaplotjs/master/release/nyaplot.js\")\n",
        "\t    .attr(\"async\", true);\n",
        "\n",
        "\tscript[0][0].onload = script[0][0].onreadystatechange = function(){\n",
        "\n",
        "\n",
        "\t    var event = document.createEvent(\"HTMLEvents\");\n",
        "\t    event.initEvent(\"load_nyaplot\",false,false);\n",
        "\t    window.dispatchEvent(event);\n",
        "\t    console.log('Finished loading Nyaplotjs');\n",
        "\n",
        "\t};\n",
        "\n",
        "\n",
        "});\n",
        "}\n",
        "</script>"
       ],
       "metadata": {},
       "output_type": "pyout",
       "prompt_number": 1,
       "text": [
        "\"if(window['d3'] === undefined ||\\n   window['Nyaplot'] === undefined){\\n    var path = {\\\"d3\\\":\\\"http://d3js.org/d3.v3.min\\\"};\\n\\n\\n\\n    var shim = {\\\"d3\\\":{\\\"exports\\\":\\\"d3\\\"}};\\n\\n    require.config({paths: path, shim:shim});\\n\\n\\nrequire(['d3'], function(d3){window['d3']=d3;console.log('finished loading d3');\\n\\n\\tvar script = d3.select(\\\"head\\\")\\n\\t    .append(\\\"script\\\")\\n\\t    .attr(\\\"src\\\", \\\"https://rawgit.com/domitry/Nyaplotjs/master/release/nyaplot.js\\\")\\n\\t    .attr(\\\"async\\\", true);\\n\\n\\tscript[0][0].onload = script[0][0].onreadystatechange = function(){\\n\\n\\n\\t    var event = document.createEvent(\\\"HTMLEvents\\\");\\n\\t    event.initEvent(\\\"load_nyaplot\\\",false,false);\\n\\t    window.dispatchEvent(event);\\n\\t    console.log('Finished loading Nyaplotjs');\\n\\n\\t};\\n\\n\\n});\\n}\\n\""
       ]
      },
      {
       "metadata": {},
       "output_type": "pyout",
       "prompt_number": 1,
       "text": [
        "true"
       ]
      }
     ],
     "prompt_number": 1
    },
    {
     "cell_type": "markdown",
     "metadata": {},
     "source": [
      "Use Nyaplot::Colors#lists to show the lists of prepared colorsets."
     ]
    },
    {
     "cell_type": "code",
     "collapsed": false,
     "input": [
      "Nyaplot::Colors.lists"
     ],
     "language": "python",
     "metadata": {},
     "outputs": [
      {
       "metadata": {},
       "output_type": "pyout",
       "prompt_number": 3,
       "text": [
        "[\"Spectral\", \"RdYlGn\", \"RdBu\", \"PiYG\", \"PRGn\", \"RdYlBu\", \"BrBG\", \"RdGy\", \"PuOr\", \"Set2\", \"Accent\", \"Set1\", \"Set3\", \"Dark2\", \"Paired\", \"Pastel2\", \"Pastel1\", \"OrRd\", \"PuBu\", \"BuPu\", \"Oranges\", \"BuGn\", \"YlOrBr\", \"YlGn\", \"Reds\", \"RdPu\", \"Greens\", \"YlGnBu\", \"Purples\", \"GnBu\", \"Greys\", \"YlOrRd\", \"PuRd\", \"Blues\", \"PuBuGn\"]"
       ]
      }
     ],
     "prompt_number": 3
    },
    {
     "cell_type": "markdown",
     "metadata": {},
     "source": [
      "Try some of those colorsets."
     ]
    },
    {
     "cell_type": "code",
     "collapsed": false,
     "input": [
      "Nyaplot::Colors.Pastel2"
     ],
     "language": "python",
     "metadata": {},
     "outputs": [
      {
       "html": [
        "<table><tr><th>rgb(179,226,205)</th><th>rgb(253,205,172)</th><th>rgb(203,213,232)</th><th>rgb(244,202,228)</th><th>rgb(230,245,201)</th><th>rgb(255,242,174)</th><th>rgb(241,226,204)</th><th>rgb(204,204,204)</th></tr><tr><td style=\"background-color:rgb(179,226,205);\">&nbsp;</td><td style=\"background-color:rgb(253,205,172);\">&nbsp;</td><td style=\"background-color:rgb(203,213,232);\">&nbsp;</td><td style=\"background-color:rgb(244,202,228);\">&nbsp;</td><td style=\"background-color:rgb(230,245,201);\">&nbsp;</td><td style=\"background-color:rgb(255,242,174);\">&nbsp;</td><td style=\"background-color:rgb(241,226,204);\">&nbsp;</td><td style=\"background-color:rgb(204,204,204);\">&nbsp;</td></tr></table>"
       ],
       "metadata": {},
       "output_type": "pyout",
       "prompt_number": 35,
       "text": [
        "#<Nyaplot::Color:0xb9d76bbc @source=[\"rgb(179,226,205)\", \"rgb(253,205,172)\", \"rgb(203,213,232)\", \"rgb(244,202,228)\", \"rgb(230,245,201)\", \"rgb(255,242,174)\", \"rgb(241,226,204)\", \"rgb(204,204,204)\"]>"
       ]
      }
     ],
     "prompt_number": 35
    },
    {
     "cell_type": "code",
     "collapsed": false,
     "input": [
      "Nyaplot::Colors.jet"
     ],
     "language": "python",
     "metadata": {},
     "outputs": [
      {
       "html": [
        "<table><tr><th>rgb(215,48,39)</th><th>rgb(244,109,67)</th><th>rgb(253,174,97)</th><th>rgb(254,224,144)</th><th>rgb(255,255,191)</th><th>rgb(224,243,248)</th><th>rgb(171,217,233)</th><th>rgb(116,173,209)</th><th>rgb(69,117,180)</th></tr><tr><td style=\"background-color:rgb(215,48,39);\">&nbsp;</td><td style=\"background-color:rgb(244,109,67);\">&nbsp;</td><td style=\"background-color:rgb(253,174,97);\">&nbsp;</td><td style=\"background-color:rgb(254,224,144);\">&nbsp;</td><td style=\"background-color:rgb(255,255,191);\">&nbsp;</td><td style=\"background-color:rgb(224,243,248);\">&nbsp;</td><td style=\"background-color:rgb(171,217,233);\">&nbsp;</td><td style=\"background-color:rgb(116,173,209);\">&nbsp;</td><td style=\"background-color:rgb(69,117,180);\">&nbsp;</td></tr></table>"
       ],
       "metadata": {},
       "output_type": "pyout",
       "prompt_number": 17,
       "text": [
        "#<Nyaplot::Color:0xb9e17170 @source=[\"rgb(215,48,39)\", \"rgb(244,109,67)\", \"rgb(253,174,97)\", \"rgb(254,224,144)\", \"rgb(255,255,191)\", \"rgb(224,243,248)\", \"rgb(171,217,233)\", \"rgb(116,173,209)\", \"rgb(69,117,180)\"]>"
       ]
      }
     ],
     "prompt_number": 17
    },
    {
     "cell_type": "code",
     "collapsed": false,
     "input": [
      "Nyaplot::Colors.GnBu"
     ],
     "language": "python",
     "metadata": {},
     "outputs": [
      {
       "html": [
        "<table><tr><th>rgb(247,252,240)</th><th>rgb(224,243,219)</th><th>rgb(204,235,197)</th><th>rgb(168,221,181)</th><th>rgb(123,204,196)</th><th>rgb(78,179,211)</th><th>rgb(43,140,190)</th><th>rgb(8,104,172)</th><th>rgb(8,64,129)</th></tr><tr><td style=\"background-color:rgb(247,252,240);\">&nbsp;</td><td style=\"background-color:rgb(224,243,219);\">&nbsp;</td><td style=\"background-color:rgb(204,235,197);\">&nbsp;</td><td style=\"background-color:rgb(168,221,181);\">&nbsp;</td><td style=\"background-color:rgb(123,204,196);\">&nbsp;</td><td style=\"background-color:rgb(78,179,211);\">&nbsp;</td><td style=\"background-color:rgb(43,140,190);\">&nbsp;</td><td style=\"background-color:rgb(8,104,172);\">&nbsp;</td><td style=\"background-color:rgb(8,64,129);\">&nbsp;</td></tr></table>"
       ],
       "metadata": {},
       "output_type": "pyout",
       "prompt_number": 29,
       "text": [
        "#<Nyaplot::Color:0xb9dfb484 @source=[\"rgb(247,252,240)\", \"rgb(224,243,219)\", \"rgb(204,235,197)\", \"rgb(168,221,181)\", \"rgb(123,204,196)\", \"rgb(78,179,211)\", \"rgb(43,140,190)\", \"rgb(8,104,172)\", \"rgb(8,64,129)\"]>"
       ]
      }
     ],
     "prompt_number": 29
    },
    {
     "cell_type": "code",
     "collapsed": false,
     "input": [
      "Nyaplot::Colors.binary"
     ],
     "language": "python",
     "metadata": {},
     "outputs": [
      {
       "html": [
        "<table><tr><th>rgb(255,255,255)</th><th>rgb(240,240,240)</th><th>rgb(217,217,217)</th><th>rgb(189,189,189)</th><th>rgb(150,150,150)</th><th>rgb(115,115,115)</th><th>rgb(82,82,82)</th><th>rgb(37,37,37)</th><th>rgb(0,0,0)</th></tr><tr><td style=\"background-color:rgb(255,255,255);\">&nbsp;</td><td style=\"background-color:rgb(240,240,240);\">&nbsp;</td><td style=\"background-color:rgb(217,217,217);\">&nbsp;</td><td style=\"background-color:rgb(189,189,189);\">&nbsp;</td><td style=\"background-color:rgb(150,150,150);\">&nbsp;</td><td style=\"background-color:rgb(115,115,115);\">&nbsp;</td><td style=\"background-color:rgb(82,82,82);\">&nbsp;</td><td style=\"background-color:rgb(37,37,37);\">&nbsp;</td><td style=\"background-color:rgb(0,0,0);\">&nbsp;</td></tr></table>"
       ],
       "metadata": {},
       "output_type": "pyout",
       "prompt_number": 27,
       "text": [
        "#<Nyaplot::Color:0xb9e17f6c @source=[\"rgb(255,255,255)\", \"rgb(240,240,240)\", \"rgb(217,217,217)\", \"rgb(189,189,189)\", \"rgb(150,150,150)\", \"rgb(115,115,115)\", \"rgb(82,82,82)\", \"rgb(37,37,37)\", \"rgb(0,0,0)\"]>"
       ]
      }
     ],
     "prompt_number": 27
    },
    {
     "cell_type": "markdown",
     "metadata": {},
     "source": [
      "Nyaplot::Colors#seq return random colors that is suitable for sequential data. Similarly, Nyaplot::Colors#div returns colors for diverging data, and Nyaplot::Colors#qual is for qualitative data."
     ]
    },
    {
     "cell_type": "code",
     "collapsed": false,
     "input": [
      "Nyaplot::Colors.seq"
     ],
     "language": "python",
     "metadata": {},
     "outputs": [
      {
       "html": [
        "<table><tr><th>rgb(255,245,235)</th><th>rgb(254,230,206)</th><th>rgb(253,208,162)</th><th>rgb(253,174,107)</th><th>rgb(253,141,60)</th><th>rgb(241,105,19)</th><th>rgb(217,72,1)</th><th>rgb(166,54,3)</th><th>rgb(127,39,4)</th></tr><tr><td style=\"background-color:rgb(255,245,235);\">&nbsp;</td><td style=\"background-color:rgb(254,230,206);\">&nbsp;</td><td style=\"background-color:rgb(253,208,162);\">&nbsp;</td><td style=\"background-color:rgb(253,174,107);\">&nbsp;</td><td style=\"background-color:rgb(253,141,60);\">&nbsp;</td><td style=\"background-color:rgb(241,105,19);\">&nbsp;</td><td style=\"background-color:rgb(217,72,1);\">&nbsp;</td><td style=\"background-color:rgb(166,54,3);\">&nbsp;</td><td style=\"background-color:rgb(127,39,4);\">&nbsp;</td></tr></table>"
       ],
       "metadata": {},
       "output_type": "pyout",
       "prompt_number": 4,
       "text": [
        "#<Nyaplot::Color:0xb9d2c454 @source=[\"rgb(255,245,235)\", \"rgb(254,230,206)\", \"rgb(253,208,162)\", \"rgb(253,174,107)\", \"rgb(253,141,60)\", \"rgb(241,105,19)\", \"rgb(217,72,1)\", \"rgb(166,54,3)\", \"rgb(127,39,4)\"]>"
       ]
      }
     ],
     "prompt_number": 4
    },
    {
     "cell_type": "code",
     "collapsed": false,
     "input": [
      "Nyaplot::Colors.div"
     ],
     "language": "python",
     "metadata": {},
     "outputs": [
      {
       "html": [
        "<table><tr><th>rgb(213,62,79)</th><th>rgb(244,109,67)</th><th>rgb(253,174,97)</th><th>rgb(254,224,139)</th><th>rgb(255,255,191)</th><th>rgb(230,245,152)</th><th>rgb(171,221,164)</th><th>rgb(102,194,165)</th><th>rgb(50,136,189)</th></tr><tr><td style=\"background-color:rgb(213,62,79);\">&nbsp;</td><td style=\"background-color:rgb(244,109,67);\">&nbsp;</td><td style=\"background-color:rgb(253,174,97);\">&nbsp;</td><td style=\"background-color:rgb(254,224,139);\">&nbsp;</td><td style=\"background-color:rgb(255,255,191);\">&nbsp;</td><td style=\"background-color:rgb(230,245,152);\">&nbsp;</td><td style=\"background-color:rgb(171,221,164);\">&nbsp;</td><td style=\"background-color:rgb(102,194,165);\">&nbsp;</td><td style=\"background-color:rgb(50,136,189);\">&nbsp;</td></tr></table>"
       ],
       "metadata": {},
       "output_type": "pyout",
       "prompt_number": 19,
       "text": [
        "#<Nyaplot::Color:0xb9e35ef4 @source=[\"rgb(213,62,79)\", \"rgb(244,109,67)\", \"rgb(253,174,97)\", \"rgb(254,224,139)\", \"rgb(255,255,191)\", \"rgb(230,245,152)\", \"rgb(171,221,164)\", \"rgb(102,194,165)\", \"rgb(50,136,189)\"]>"
       ]
      }
     ],
     "prompt_number": 19
    },
    {
     "cell_type": "code",
     "collapsed": false,
     "input": [
      "Nyaplot::Colors.qual"
     ],
     "language": "python",
     "metadata": {},
     "outputs": [
      {
       "html": [
        "<table><tr><th>rgb(166,206,227)</th><th>rgb(31,120,180)</th><th>rgb(178,223,138)</th><th>rgb(51,160,44)</th><th>rgb(251,154,153)</th><th>rgb(227,26,28)</th><th>rgb(253,191,111)</th><th>rgb(255,127,0)</th><th>rgb(202,178,214)</th></tr><tr><td style=\"background-color:rgb(166,206,227);\">&nbsp;</td><td style=\"background-color:rgb(31,120,180);\">&nbsp;</td><td style=\"background-color:rgb(178,223,138);\">&nbsp;</td><td style=\"background-color:rgb(51,160,44);\">&nbsp;</td><td style=\"background-color:rgb(251,154,153);\">&nbsp;</td><td style=\"background-color:rgb(227,26,28);\">&nbsp;</td><td style=\"background-color:rgb(253,191,111);\">&nbsp;</td><td style=\"background-color:rgb(255,127,0);\">&nbsp;</td><td style=\"background-color:rgb(202,178,214);\">&nbsp;</td></tr></table>"
       ],
       "metadata": {},
       "output_type": "pyout",
       "prompt_number": 22,
       "text": [
        "#<Nyaplot::Color:0xb9e5da08 @source=[\"rgb(166,206,227)\", \"rgb(31,120,180)\", \"rgb(178,223,138)\", \"rgb(51,160,44)\", \"rgb(251,154,153)\", \"rgb(227,26,28)\", \"rgb(253,191,111)\", \"rgb(255,127,0)\", \"rgb(202,178,214)\"]>"
       ]
      }
     ],
     "prompt_number": 22
    },
    {
     "cell_type": "markdown",
     "metadata": {},
     "source": [
      "Those methods can have one argument to specify required number of colors."
     ]
    },
    {
     "cell_type": "code",
     "collapsed": false,
     "input": [
      "Nyaplot::Colors.seq(3)"
     ],
     "language": "python",
     "metadata": {},
     "outputs": [
      {
       "html": [
        "<table><tr><th>rgb(224,243,219)</th><th>rgb(168,221,181)</th><th>rgb(67,162,202)</th></tr><tr><td style=\"background-color:rgb(224,243,219);\">&nbsp;</td><td style=\"background-color:rgb(168,221,181);\">&nbsp;</td><td style=\"background-color:rgb(67,162,202);\">&nbsp;</td></tr></table>"
       ],
       "metadata": {},
       "output_type": "pyout",
       "prompt_number": 6,
       "text": [
        "#<Nyaplot::Color:0xb9d3eb68 @source=[\"rgb(224,243,219)\", \"rgb(168,221,181)\", \"rgb(67,162,202)\"]>"
       ]
      }
     ],
     "prompt_number": 6
    },
    {
     "cell_type": "code",
     "collapsed": false,
     "input": [
      "Nyaplot::Colors.Spectral(11)"
     ],
     "language": "python",
     "metadata": {},
     "outputs": [
      {
       "html": [
        "<table><tr><th>rgb(158,1,66)</th><th>rgb(213,62,79)</th><th>rgb(244,109,67)</th><th>rgb(253,174,97)</th><th>rgb(254,224,139)</th><th>rgb(255,255,191)</th><th>rgb(230,245,152)</th><th>rgb(171,221,164)</th><th>rgb(102,194,165)</th><th>rgb(50,136,189)</th><th>rgb(94,79,162)</th></tr><tr><td style=\"background-color:rgb(158,1,66);\">&nbsp;</td><td style=\"background-color:rgb(213,62,79);\">&nbsp;</td><td style=\"background-color:rgb(244,109,67);\">&nbsp;</td><td style=\"background-color:rgb(253,174,97);\">&nbsp;</td><td style=\"background-color:rgb(254,224,139);\">&nbsp;</td><td style=\"background-color:rgb(255,255,191);\">&nbsp;</td><td style=\"background-color:rgb(230,245,152);\">&nbsp;</td><td style=\"background-color:rgb(171,221,164);\">&nbsp;</td><td style=\"background-color:rgb(102,194,165);\">&nbsp;</td><td style=\"background-color:rgb(50,136,189);\">&nbsp;</td><td style=\"background-color:rgb(94,79,162);\">&nbsp;</td></tr></table>"
       ],
       "metadata": {},
       "output_type": "pyout",
       "prompt_number": 21,
       "text": [
        "#<Nyaplot::Color:0xb89702f8 @source=[\"rgb(158,1,66)\", \"rgb(213,62,79)\", \"rgb(244,109,67)\", \"rgb(253,174,97)\", \"rgb(254,224,139)\", \"rgb(255,255,191)\", \"rgb(230,245,152)\", \"rgb(171,221,164)\", \"rgb(102,194,165)\", \"rgb(50,136,189)\", \"rgb(94,79,162)\"]>"
       ]
      }
     ],
     "prompt_number": 21
    },
    {
     "cell_type": "markdown",
     "metadata": {},
     "source": [
      "Use Nyaplot::Color to try your favorite color (Credits: [fatalflaws](http://www.colourlovers.com/lover/fatalflaws/loveNote))"
     ]
    },
    {
     "cell_type": "code",
     "collapsed": false,
     "input": [
      "Nyaplot::Color.new([\"#DEDEDE\", \"#ACACAC\", \"#1F141C\", \"#4A173D\", \"#8C547E\"])"
     ],
     "language": "python",
     "metadata": {},
     "outputs": [
      {
       "html": [
        "<table><tr><th>#DEDEDE</th><th>#ACACAC</th><th>#1F141C</th><th>#4A173D</th><th>#8C547E</th></tr><tr><td style=\"background-color:#DEDEDE;\">&nbsp;</td><td style=\"background-color:#ACACAC;\">&nbsp;</td><td style=\"background-color:#1F141C;\">&nbsp;</td><td style=\"background-color:#4A173D;\">&nbsp;</td><td style=\"background-color:#8C547E;\">&nbsp;</td></tr></table>"
       ],
       "metadata": {},
       "output_type": "pyout",
       "prompt_number": 45,
       "text": [
        "#<Nyaplot::Color:0xb9afe13c @source=[\"#DEDEDE\", \"#ACACAC\", \"#1F141C\", \"#4A173D\", \"#8C547E\"]>"
       ]
      }
     ],
     "prompt_number": 45
    },
    {
     "cell_type": "heading",
     "level": 2,
     "metadata": {},
     "source": [
      "Examples"
     ]
    },
    {
     "cell_type": "markdown",
     "metadata": {},
     "source": [
      "Then try those colors in some plots."
     ]
    },
    {
     "cell_type": "code",
     "collapsed": false,
     "input": [
      "plot = Nyaplot::Plot.new\n",
      "bar = plot.add(:bar, ['Persian', 'Maine Coon', 'American Shorthair'], [10,20,30])\n",
      "plot.show"
     ],
     "language": "python",
     "metadata": {},
     "outputs": [
      {
       "html": [
        "<div id='vis-434be2b6-f19b-464f-b931-fe8cce8364de'></div>\n",
        "<script>\n",
        "(function(){\n",
        "    var render = function(){\n",
        "        var model = {\"panes\":[{\"diagrams\":[{\"type\":\"bar\",\"options\":{\"x\":\"data0\",\"y\":\"data1\"},\"data\":\"b9db346c-2e33-4ad3-a275-55e3e9080cd9\"}],\"options\":{\"width\":700,\"xrange\":[\"Persian\",\"Maine Coon\",\"American Shorthair\"],\"yrange\":[0,30]}}],\"data\":{\"b9db346c-2e33-4ad3-a275-55e3e9080cd9\":[{\"data0\":\"Persian\",\"data1\":10},{\"data0\":\"Maine Coon\",\"data1\":20},{\"data0\":\"American Shorthair\",\"data1\":30}]},\"extension\":[]}\n",
        "        Nyaplot.core.parse(model, '#vis-434be2b6-f19b-464f-b931-fe8cce8364de');\n",
        "    };\n",
        "    if(window['Nyaplot']==undefined){\n",
        "        window.addEventListener('load_nyaplot', render, false);\n",
        "\treturn;\n",
        "    }\n",
        "    render();\n",
        "})();\n",
        "</script>\n"
       ],
       "metadata": {},
       "output_type": "pyout",
       "prompt_number": 9,
       "text": [
        "\"<div id='vis-434be2b6-f19b-464f-b931-fe8cce8364de'></div>\\n<script>\\n(function(){\\n    var render = function(){\\n        var model = {\\\"panes\\\":[{\\\"diagrams\\\":[{\\\"type\\\":\\\"bar\\\",\\\"options\\\":{\\\"x\\\":\\\"data0\\\",\\\"y\\\":\\\"data1\\\"},\\\"data\\\":\\\"b9db346c-2e33-4ad3-a275-55e3e9080cd9\\\"}],\\\"options\\\":{\\\"width\\\":700,\\\"xrange\\\":[\\\"Persian\\\",\\\"Maine Coon\\\",\\\"American Shorthair\\\"],\\\"yrange\\\":[0,30]}}],\\\"data\\\":{\\\"b9db346c-2e33-4ad3-a275-55e3e9080cd9\\\":[{\\\"data0\\\":\\\"Persian\\\",\\\"data1\\\":10},{\\\"data0\\\":\\\"Maine Coon\\\",\\\"data1\\\":20},{\\\"data0\\\":\\\"American Shorthair\\\",\\\"data1\\\":30}]},\\\"extension\\\":[]}\\n        Nyaplot.core.parse(model, '#vis-434be2b6-f19b-464f-b931-fe8cce8364de');\\n    };\\n    if(window['Nyaplot']==undefined){\\n        window.addEventListener('load_nyaplot', render, false);\\n\\treturn;\\n    }\\n    render();\\n})();\\n</script>\\n\""
       ]
      }
     ],
     "prompt_number": 9
    },
    {
     "cell_type": "code",
     "collapsed": false,
     "input": [
      "colors = Nyaplot::Colors.qual(3)"
     ],
     "language": "python",
     "metadata": {},
     "outputs": [
      {
       "html": [
        "<table><tr><th>rgb(179,226,205)</th><th>rgb(253,205,172)</th><th>rgb(203,213,232)</th></tr><tr><td style=\"background-color:rgb(179,226,205);\">&nbsp;</td><td style=\"background-color:rgb(253,205,172);\">&nbsp;</td><td style=\"background-color:rgb(203,213,232);\">&nbsp;</td></tr></table>"
       ],
       "metadata": {},
       "output_type": "pyout",
       "prompt_number": 25,
       "text": [
        "#<Nyaplot::Color:0xb9e48ec8 @source=[\"rgb(179,226,205)\", \"rgb(253,205,172)\", \"rgb(203,213,232)\"]>"
       ]
      }
     ],
     "prompt_number": 25
    },
    {
     "cell_type": "code",
     "collapsed": false,
     "input": [
      "bar.color(colors)\n",
      "plot.show"
     ],
     "language": "python",
     "metadata": {},
     "outputs": [
      {
       "html": [
        "<div id='vis-d8c68ec9-b5fa-4cad-bd65-5bb93997b59f'></div>\n",
        "<script>\n",
        "(function(){\n",
        "    var render = function(){\n",
        "        var model = {\"panes\":[{\"diagrams\":[{\"type\":\"bar\",\"options\":{\"x\":\"data0\",\"y\":\"data1\",\"color\":[\"rgb(179,226,205)\",\"rgb(253,205,172)\",\"rgb(203,213,232)\"]},\"data\":\"b9db346c-2e33-4ad3-a275-55e3e9080cd9\"}],\"options\":{\"width\":700,\"xrange\":[\"Persian\",\"Maine Coon\",\"American Shorthair\"],\"yrange\":[0,30]}}],\"data\":{\"b9db346c-2e33-4ad3-a275-55e3e9080cd9\":[{\"data0\":\"Persian\",\"data1\":10},{\"data0\":\"Maine Coon\",\"data1\":20},{\"data0\":\"American Shorthair\",\"data1\":30}]},\"extension\":[]}\n",
        "        Nyaplot.core.parse(model, '#vis-d8c68ec9-b5fa-4cad-bd65-5bb93997b59f');\n",
        "    };\n",
        "    if(window['Nyaplot']==undefined){\n",
        "        window.addEventListener('load_nyaplot', render, false);\n",
        "\treturn;\n",
        "    }\n",
        "    render();\n",
        "})();\n",
        "</script>\n"
       ],
       "metadata": {},
       "output_type": "pyout",
       "prompt_number": 26,
       "text": [
        "\"<div id='vis-d8c68ec9-b5fa-4cad-bd65-5bb93997b59f'></div>\\n<script>\\n(function(){\\n    var render = function(){\\n        var model = {\\\"panes\\\":[{\\\"diagrams\\\":[{\\\"type\\\":\\\"bar\\\",\\\"options\\\":{\\\"x\\\":\\\"data0\\\",\\\"y\\\":\\\"data1\\\",\\\"color\\\":[\\\"rgb(179,226,205)\\\",\\\"rgb(253,205,172)\\\",\\\"rgb(203,213,232)\\\"]},\\\"data\\\":\\\"b9db346c-2e33-4ad3-a275-55e3e9080cd9\\\"}],\\\"options\\\":{\\\"width\\\":700,\\\"xrange\\\":[\\\"Persian\\\",\\\"Maine Coon\\\",\\\"American Shorthair\\\"],\\\"yrange\\\":[0,30]}}],\\\"data\\\":{\\\"b9db346c-2e33-4ad3-a275-55e3e9080cd9\\\":[{\\\"data0\\\":\\\"Persian\\\",\\\"data1\\\":10},{\\\"data0\\\":\\\"Maine Coon\\\",\\\"data1\\\":20},{\\\"data0\\\":\\\"American Shorthair\\\",\\\"data1\\\":30}]},\\\"extension\\\":[]}\\n        Nyaplot.core.parse(model, '#vis-d8c68ec9-b5fa-4cad-bd65-5bb93997b59f');\\n    };\\n    if(window['Nyaplot']==undefined){\\n        window.addEventListener('load_nyaplot', render, false);\\n\\treturn;\\n    }\\n    render();\\n})();\\n</script>\\n\""
       ]
      }
     ],
     "prompt_number": 26
    },
    {
     "cell_type": "code",
     "collapsed": false,
     "input": [
      "x=[]; y=[]; fill=[]\n",
      "-5.step(5, 1) do |i|\n",
      "  -5.step(5, 1) do |j|\n",
      "    x.push(i)\n",
      "    y.push(j)\n",
      "    val = Math.sin(Math.sqrt(i*i+j*j))/Math.sqrt(i*i+j*j)\n",
      "    fill.push((val.nan? ? 0 : val))\n",
      "  end\n",
      "end\n",
      "\n",
      "plot2 = Nyaplot::Plot.new\n",
      "hm = plot2.add(:heatmap, x, y, fill)\n",
      "hm.width(1)\n",
      "hm.height(1)\n",
      "plot2.legend(true)\n",
      "plot2.show"
     ],
     "language": "python",
     "metadata": {},
     "outputs": [
      {
       "html": [
        "<div id='vis-bd1b8dae-bcad-4383-af46-6c86b1e70ae4'></div>\n",
        "<script>\n",
        "(function(){\n",
        "    var render = function(){\n",
        "        var model = {\"panes\":[{\"diagrams\":[{\"type\":\"heatmap\",\"options\":{\"x\":\"data0\",\"y\":\"data1\",\"fill\":\"data2\",\"width\":1,\"height\":1},\"data\":\"c396768d-5202-438f-846e-a7235080b0f0\"}],\"options\":{\"legend\":true,\"zoom\":true,\"width\":800,\"xrange\":[-5,5],\"yrange\":[-5,5]}}],\"data\":{\"c396768d-5202-438f-846e-a7235080b0f0\":[{\"data0\":-5,\"data1\":-5,\"data2\":0.10024812527586709},{\"data0\":-5,\"data1\":-4,\"data2\":0.018686436816934687},{\"data0\":-5,\"data1\":-3,\"data2\":-0.07494068295407723},{\"data0\":-5,\"data1\":-2,\"data2\":-0.14523137672394124},{\"data0\":-5,\"data1\":-1,\"data2\":-0.18163979110507836},{\"data0\":-5,\"data1\":0,\"data2\":-0.1917848549326277},{\"data0\":-5,\"data1\":1,\"data2\":-0.18163979110507836},{\"data0\":-5,\"data1\":2,\"data2\":-0.14523137672394124},{\"data0\":-5,\"data1\":3,\"data2\":-0.07494068295407723},{\"data0\":-5,\"data1\":4,\"data2\":0.018686436816934687},{\"data0\":-5,\"data1\":5,\"data2\":0.10024812527586709},{\"data0\":-4,\"data1\":-5,\"data2\":0.018686436816934687},{\"data0\":-4,\"data1\":-4,\"data2\":-0.10362229026069987},{\"data0\":-4,\"data1\":-3,\"data2\":-0.1917848549326277},{\"data0\":-4,\"data1\":-2,\"data2\":-0.21718431835123952},{\"data0\":-4,\"data1\":-1,\"data2\":-0.20162936743561297},{\"data0\":-4,\"data1\":0,\"data2\":-0.18920062382698205},{\"data0\":-4,\"data1\":1,\"data2\":-0.20162936743561297},{\"data0\":-4,\"data1\":2,\"data2\":-0.21718431835123952},{\"data0\":-4,\"data1\":3,\"data2\":-0.1917848549326277},{\"data0\":-4,\"data1\":4,\"data2\":-0.10362229026069987},{\"data0\":-4,\"data1\":5,\"data2\":0.018686436816934687},{\"data0\":-3,\"data1\":-5,\"data2\":-0.07494068295407723},{\"data0\":-3,\"data1\":-4,\"data2\":-0.1917848549326277},{\"data0\":-3,\"data1\":-3,\"data2\":-0.21017152293525476},{\"data0\":-3,\"data1\":-2,\"data2\":-0.12411188138749576},{\"data0\":-3,\"data1\":-1,\"data2\":-0.0065407069689387},{\"data0\":-3,\"data1\":0,\"data2\":0.0470400026866224},{\"data0\":-3,\"data1\":1,\"data2\":-0.0065407069689387},{\"data0\":-3,\"data1\":2,\"data2\":-0.12411188138749576},{\"data0\":-3,\"data1\":3,\"data2\":-0.21017152293525476},{\"data0\":-3,\"data1\":4,\"data2\":-0.1917848549326277},{\"data0\":-3,\"data1\":5,\"data2\":-0.07494068295407723},{\"data0\":-2,\"data1\":-5,\"data2\":-0.14523137672394124},{\"data0\":-2,\"data1\":-4,\"data2\":-0.21718431835123952},{\"data0\":-2,\"data1\":-3,\"data2\":-0.12411188138749576},{\"data0\":-2,\"data1\":-2,\"data2\":0.10891980905843199},{\"data0\":-2,\"data1\":-1,\"data2\":0.35184490787569894},{\"data0\":-2,\"data1\":0,\"data2\":0.45464871341284085},{\"data0\":-2,\"data1\":1,\"data2\":0.35184490787569894},{\"data0\":-2,\"data1\":2,\"data2\":0.10891980905843199},{\"data0\":-2,\"data1\":3,\"data2\":-0.12411188138749576},{\"data0\":-2,\"data1\":4,\"data2\":-0.21718431835123952},{\"data0\":-2,\"data1\":5,\"data2\":-0.14523137672394124},{\"data0\":-1,\"data1\":-5,\"data2\":-0.18163979110507836},{\"data0\":-1,\"data1\":-4,\"data2\":-0.20162936743561297},{\"data0\":-1,\"data1\":-3,\"data2\":-0.0065407069689387},{\"data0\":-1,\"data1\":-2,\"data2\":0.35184490787569894},{\"data0\":-1,\"data1\":-1,\"data2\":0.6984559986366083},{\"data0\":-1,\"data1\":0,\"data2\":0.8414709848078965},{\"data0\":-1,\"data1\":1,\"data2\":0.6984559986366083},{\"data0\":-1,\"data1\":2,\"data2\":0.35184490787569894},{\"data0\":-1,\"data1\":3,\"data2\":-0.0065407069689387},{\"data0\":-1,\"data1\":4,\"data2\":-0.20162936743561297},{\"data0\":-1,\"data1\":5,\"data2\":-0.18163979110507836},{\"data0\":0,\"data1\":-5,\"data2\":-0.1917848549326277},{\"data0\":0,\"data1\":-4,\"data2\":-0.18920062382698205},{\"data0\":0,\"data1\":-3,\"data2\":0.0470400026866224},{\"data0\":0,\"data1\":-2,\"data2\":0.45464871341284085},{\"data0\":0,\"data1\":-1,\"data2\":0.8414709848078965},{\"data0\":0,\"data1\":0,\"data2\":0},{\"data0\":0,\"data1\":1,\"data2\":0.8414709848078965},{\"data0\":0,\"data1\":2,\"data2\":0.45464871341284085},{\"data0\":0,\"data1\":3,\"data2\":0.0470400026866224},{\"data0\":0,\"data1\":4,\"data2\":-0.18920062382698205},{\"data0\":0,\"data1\":5,\"data2\":-0.1917848549326277},{\"data0\":1,\"data1\":-5,\"data2\":-0.18163979110507836},{\"data0\":1,\"data1\":-4,\"data2\":-0.20162936743561297},{\"data0\":1,\"data1\":-3,\"data2\":-0.0065407069689387},{\"data0\":1,\"data1\":-2,\"data2\":0.35184490787569894},{\"data0\":1,\"data1\":-1,\"data2\":0.6984559986366083},{\"data0\":1,\"data1\":0,\"data2\":0.8414709848078965},{\"data0\":1,\"data1\":1,\"data2\":0.6984559986366083},{\"data0\":1,\"data1\":2,\"data2\":0.35184490787569894},{\"data0\":1,\"data1\":3,\"data2\":-0.0065407069689387},{\"data0\":1,\"data1\":4,\"data2\":-0.20162936743561297},{\"data0\":1,\"data1\":5,\"data2\":-0.18163979110507836},{\"data0\":2,\"data1\":-5,\"data2\":-0.14523137672394124},{\"data0\":2,\"data1\":-4,\"data2\":-0.21718431835123952},{\"data0\":2,\"data1\":-3,\"data2\":-0.12411188138749576},{\"data0\":2,\"data1\":-2,\"data2\":0.10891980905843199},{\"data0\":2,\"data1\":-1,\"data2\":0.35184490787569894},{\"data0\":2,\"data1\":0,\"data2\":0.45464871341284085},{\"data0\":2,\"data1\":1,\"data2\":0.35184490787569894},{\"data0\":2,\"data1\":2,\"data2\":0.10891980905843199},{\"data0\":2,\"data1\":3,\"data2\":-0.12411188138749576},{\"data0\":2,\"data1\":4,\"data2\":-0.21718431835123952},{\"data0\":2,\"data1\":5,\"data2\":-0.14523137672394124},{\"data0\":3,\"data1\":-5,\"data2\":-0.07494068295407723},{\"data0\":3,\"data1\":-4,\"data2\":-0.1917848549326277},{\"data0\":3,\"data1\":-3,\"data2\":-0.21017152293525476},{\"data0\":3,\"data1\":-2,\"data2\":-0.12411188138749576},{\"data0\":3,\"data1\":-1,\"data2\":-0.0065407069689387},{\"data0\":3,\"data1\":0,\"data2\":0.0470400026866224},{\"data0\":3,\"data1\":1,\"data2\":-0.0065407069689387},{\"data0\":3,\"data1\":2,\"data2\":-0.12411188138749576},{\"data0\":3,\"data1\":3,\"data2\":-0.21017152293525476},{\"data0\":3,\"data1\":4,\"data2\":-0.1917848549326277},{\"data0\":3,\"data1\":5,\"data2\":-0.07494068295407723},{\"data0\":4,\"data1\":-5,\"data2\":0.018686436816934687},{\"data0\":4,\"data1\":-4,\"data2\":-0.10362229026069987},{\"data0\":4,\"data1\":-3,\"data2\":-0.1917848549326277},{\"data0\":4,\"data1\":-2,\"data2\":-0.21718431835123952},{\"data0\":4,\"data1\":-1,\"data2\":-0.20162936743561297},{\"data0\":4,\"data1\":0,\"data2\":-0.18920062382698205},{\"data0\":4,\"data1\":1,\"data2\":-0.20162936743561297},{\"data0\":4,\"data1\":2,\"data2\":-0.21718431835123952},{\"data0\":4,\"data1\":3,\"data2\":-0.1917848549326277},{\"data0\":4,\"data1\":4,\"data2\":-0.10362229026069987},{\"data0\":4,\"data1\":5,\"data2\":0.018686436816934687},{\"data0\":5,\"data1\":-5,\"data2\":0.10024812527586709},{\"data0\":5,\"data1\":-4,\"data2\":0.018686436816934687},{\"data0\":5,\"data1\":-3,\"data2\":-0.07494068295407723},{\"data0\":5,\"data1\":-2,\"data2\":-0.14523137672394124},{\"data0\":5,\"data1\":-1,\"data2\":-0.18163979110507836},{\"data0\":5,\"data1\":0,\"data2\":-0.1917848549326277},{\"data0\":5,\"data1\":1,\"data2\":-0.18163979110507836},{\"data0\":5,\"data1\":2,\"data2\":-0.14523137672394124},{\"data0\":5,\"data1\":3,\"data2\":-0.07494068295407723},{\"data0\":5,\"data1\":4,\"data2\":0.018686436816934687},{\"data0\":5,\"data1\":5,\"data2\":0.10024812527586709}]},\"extension\":[]}\n",
        "        Nyaplot.core.parse(model, '#vis-bd1b8dae-bcad-4383-af46-6c86b1e70ae4');\n",
        "    };\n",
        "    if(window['Nyaplot']==undefined){\n",
        "        window.addEventListener('load_nyaplot', render, false);\n",
        "\treturn;\n",
        "    }\n",
        "    render();\n",
        "})();\n",
        "</script>\n"
       ],
       "metadata": {},
       "output_type": "pyout",
       "prompt_number": 43,
       "text": [
        "\"<div id='vis-bd1b8dae-bcad-4383-af46-6c86b1e70ae4'></div>\\n<script>\\n(function(){\\n    var render = function(){\\n        var model = {\\\"panes\\\":[{\\\"diagrams\\\":[{\\\"type\\\":\\\"heatmap\\\",\\\"options\\\":{\\\"x\\\":\\\"data0\\\",\\\"y\\\":\\\"data1\\\",\\\"fill\\\":\\\"data2\\\",\\\"width\\\":1,\\\"height\\\":1},\\\"data\\\":\\\"c396768d-5202-438f-846e-a7235080b0f0\\\"}],\\\"options\\\":{\\\"legend\\\":true,\\\"zoom\\\":true,\\\"width\\\":800,\\\"xrange\\\":[-5,5],\\\"yrange\\\":[-5,5]}}],\\\"data\\\":{\\\"c396768d-5202-438f-846e-a7235080b0f0\\\":[{\\\"data0\\\":-5,\\\"data1\\\":-5,\\\"data2\\\":0.10024812527586709},{\\\"data0\\\":-5,\\\"data1\\\":-4,\\\"data2\\\":0.018686436816934687},{\\\"data0\\\":-5,\\\"data1\\\":-3,\\\"data2\\\":-0.07494068295407723},{\\\"data0\\\":-5,\\\"data1\\\":-2,\\\"data2\\\":-0.14523137672394124},{\\\"data0\\\":-5,\\\"data1\\\":-1,\\\"data2\\\":-0.18163979110507836},{\\\"data0\\\":-5,\\\"data1\\\":0,\\\"data2\\\":-0.1917848549326277},{\\\"data0\\\":-5,\\\"data1\\\":1,\\\"data2\\\":-0.18163979110507836},{\\\"data0\\\":-5,\\\"data1\\\":2,\\\"data2\\\":-0.14523137672394124},{\\\"data0\\\":-5,\\\"data1\\\":3,\\\"data2\\\":-0.07494068295407723},{\\\"data0\\\":-5,\\\"data1\\\":4,\\\"data2\\\":0.018686436816934687},{\\\"data0\\\":-5,\\\"data1\\\":5,\\\"data2\\\":0.10024812527586709},{\\\"data0\\\":-4,\\\"data1\\\":-5,\\\"data2\\\":0.018686436816934687},{\\\"data0\\\":-4,\\\"data1\\\":-4,\\\"data2\\\":-0.10362229026069987},{\\\"data0\\\":-4,\\\"data1\\\":-3,\\\"data2\\\":-0.1917848549326277},{\\\"data0\\\":-4,\\\"data1\\\":-2,\\\"data2\\\":-0.21718431835123952},{\\\"data0\\\":-4,\\\"data1\\\":-1,\\\"data2\\\":-0.20162936743561297},{\\\"data0\\\":-4,\\\"data1\\\":0,\\\"data2\\\":-0.18920062382698205},{\\\"data0\\\":-4,\\\"data1\\\":1,\\\"data2\\\":-0.20162936743561297},{\\\"data0\\\":-4,\\\"data1\\\":2,\\\"data2\\\":-0.21718431835123952},{\\\"data0\\\":-4,\\\"data1\\\":3,\\\"data2\\\":-0.1917848549326277},{\\\"data0\\\":-4,\\\"data1\\\":4,\\\"data2\\\":-0.10362229026069987},{\\\"data0\\\":-4,\\\"data1\\\":5,\\\"data2\\\":0.018686436816934687},{\\\"data0\\\":-3,\\\"data1\\\":-5,\\\"data2\\\":-0.07494068295407723},{\\\"data0\\\":-3,\\\"data1\\\":-4,\\\"data2\\\":-0.1917848549326277},{\\\"data0\\\":-3,\\\"data1\\\":-3,\\\"data2\\\":-0.21017152293525476},{\\\"data0\\\":-3,\\\"data1\\\":-2,\\\"data2\\\":-0.12411188138749576},{\\\"data0\\\":-3,\\\"data1\\\":-1,\\\"data2\\\":-0.0065407069689387},{\\\"data0\\\":-3,\\\"data1\\\":0,\\\"data2\\\":0.0470400026866224},{\\\"data0\\\":-3,\\\"data1\\\":1,\\\"data2\\\":-0.0065407069689387},{\\\"data0\\\":-3,\\\"data1\\\":2,\\\"data2\\\":-0.12411188138749576},{\\\"data0\\\":-3,\\\"data1\\\":3,\\\"data2\\\":-0.21017152293525476},{\\\"data0\\\":-3,\\\"data1\\\":4,\\\"data2\\\":-0.1917848549326277},{\\\"data0\\\":-3,\\\"data1\\\":5,\\\"data2\\\":-0.07494068295407723},{\\\"data0\\\":-2,\\\"data1\\\":-5,\\\"data2\\\":-0.14523137672394124},{\\\"data0\\\":-2,\\\"data1\\\":-4,\\\"data2\\\":-0.21718431835123952},{\\\"data0\\\":-2,\\\"data1\\\":-3,\\\"data2\\\":-0.12411188138749576},{\\\"data0\\\":-2,\\\"data1\\\":-2,\\\"data2\\\":0.10891980905843199},{\\\"data0\\\":-2,\\\"data1\\\":-1,\\\"data2\\\":0.35184490787569894},{\\\"data0\\\":-2,\\\"data1\\\":0,\\\"data2\\\":0.45464871341284085},{\\\"data0\\\":-2,\\\"data1\\\":1,\\\"data2\\\":0.35184490787569894},{\\\"data0\\\":-2,\\\"data1\\\":2,\\\"data2\\\":0.10891980905843199},{\\\"data0\\\":-2,\\\"data1\\\":3,\\\"data2\\\":-0.12411188138749576},{\\\"data0\\\":-2,\\\"data1\\\":4,\\\"data2\\\":-0.21718431835123952},{\\\"data0\\\":-2,\\\"data1\\\":5,\\\"data2\\\":-0.14523137672394124},{\\\"data0\\\":-1,\\\"data1\\\":-5,\\\"data2\\\":-0.18163979110507836},{\\\"data0\\\":-1,\\\"data1\\\":-4,\\\"data2\\\":-0.20162936743561297},{\\\"data0\\\":-1,\\\"data1\\\":-3,\\\"data2\\\":-0.0065407069689387},{\\\"data0\\\":-1,\\\"data1\\\":-2,\\\"data2\\\":0.35184490787569894},{\\\"data0\\\":-1,\\\"data1\\\":-1,\\\"data2\\\":0.6984559986366083},{\\\"data0\\\":-1,\\\"data1\\\":0,\\\"data2\\\":0.8414709848078965},{\\\"data0\\\":-1,\\\"data1\\\":1,\\\"data2\\\":0.6984559986366083},{\\\"data0\\\":-1,\\\"data1\\\":2,\\\"data2\\\":0.35184490787569894},{\\\"data0\\\":-1,\\\"data1\\\":3,\\\"data2\\\":-0.0065407069689387},{\\\"data0\\\":-1,\\\"data1\\\":4,\\\"data2\\\":-0.20162936743561297},{\\\"data0\\\":-1,\\\"data1\\\":5,\\\"data2\\\":-0.18163979110507836},{\\\"data0\\\":0,\\\"data1\\\":-5,\\\"data2\\\":-0.1917848549326277},{\\\"data0\\\":0,\\\"data1\\\":-4,\\\"data2\\\":-0.18920062382698205},{\\\"data0\\\":0,\\\"data1\\\":-3,\\\"data2\\\":0.0470400026866224},{\\\"data0\\\":0,\\\"data1\\\":-2,\\\"data2\\\":0.45464871341284085},{\\\"data0\\\":0,\\\"data1\\\":-1,\\\"data2\\\":0.8414709848078965},{\\\"data0\\\":0,\\\"data1\\\":0,\\\"data2\\\":0},{\\\"data0\\\":0,\\\"data1\\\":1,\\\"data2\\\":0.8414709848078965},{\\\"data0\\\":0,\\\"data1\\\":2,\\\"data2\\\":0.45464871341284085},{\\\"data0\\\":0,\\\"data1\\\":3,\\\"data2\\\":0.0470400026866224},{\\\"data0\\\":0,\\\"data1\\\":4,\\\"data2\\\":-0.18920062382698205},{\\\"data0\\\":0,\\\"data1\\\":5,\\\"data2\\\":-0.1917848549326277},{\\\"data0\\\":1,\\\"data1\\\":-5,\\\"data2\\\":-0.18163979110507836},{\\\"data0\\\":1,\\\"data1\\\":-4,\\\"data2\\\":-0.20162936743561297},{\\\"data0\\\":1,\\\"data1\\\":-3,\\\"data2\\\":-0.0065407069689387},{\\\"data0\\\":1,\\\"data1\\\":-2,\\\"data2\\\":0.35184490787569894},{\\\"data0\\\":1,\\\"data1\\\":-1,\\\"data2\\\":0.6984559986366083},{\\\"data0\\\":1,\\\"data1\\\":0,\\\"data2\\\":0.8414709848078965},{\\\"data0\\\":1,\\\"data1\\\":1,\\\"data2\\\":0.6984559986366083},{\\\"data0\\\":1,\\\"data1\\\":2,\\\"data2\\\":0.35184490787569894},{\\\"data0\\\":1,\\\"data1\\\":3,\\\"data2\\\":-0.0065407069689387},{\\\"data0\\\":1,\\\"data1\\\":4,\\\"data2\\\":-0.20162936743561297},{\\\"data0\\\":1,\\\"data1\\\":5,\\\"data2\\\":-0.18163979110507836},{\\\"data0\\\":2,\\\"data1\\\":-5,\\\"data2\\\":-0.14523137672394124},{\\\"data0\\\":2,\\\"data1\\\":-4,\\\"data2\\\":-0.21718431835123952},{\\\"data0\\\":2,\\\"data1\\\":-3,\\\"data2\\\":-0.12411188138749576},{\\\"data0\\\":2,\\\"data1\\\":-2,\\\"data2\\\":0.10891980905843199},{\\\"data0\\\":2,\\\"data1\\\":-1,\\\"data2\\\":0.35184490787569894},{\\\"data0\\\":2,\\\"data1\\\":0,\\\"data2\\\":0.45464871341284085},{\\\"data0\\\":2,\\\"data1\\\":1,\\\"data2\\\":0.35184490787569894},{\\\"data0\\\":2,\\\"data1\\\":2,\\\"data2\\\":0.10891980905843199},{\\\"data0\\\":2,\\\"data1\\\":3,\\\"data2\\\":-0.12411188138749576},{\\\"data0\\\":2,\\\"data1\\\":4,\\\"data2\\\":-0.21718431835123952},{\\\"data0\\\":2,\\\"data1\\\":5,\\\"data2\\\":-0.14523137672394124},{\\\"data0\\\":3,\\\"data1\\\":-5,\\\"data2\\\":-0.07494068295407723},{\\\"data0\\\":3,\\\"data1\\\":-4,\\\"data2\\\":-0.1917848549326277},{\\\"data0\\\":3,\\\"data1\\\":-3,\\\"data2\\\":-0.21017152293525476},{\\\"data0\\\":3,\\\"data1\\\":-2,\\\"data2\\\":-0.12411188138749576},{\\\"data0\\\":3,\\\"data1\\\":-1,\\\"data2\\\":-0.0065407069689387},{\\\"data0\\\":3,\\\"data1\\\":0,\\\"data2\\\":0.0470400026866224},{\\\"data0\\\":3,\\\"data1\\\":1,\\\"data2\\\":-0.0065407069689387},{\\\"data0\\\":3,\\\"data1\\\":2,\\\"data2\\\":-0.12411188138749576},{\\\"data0\\\":3,\\\"data1\\\":3,\\\"data2\\\":-0.21017152293525476},{\\\"data0\\\":3,\\\"data1\\\":4,\\\"data2\\\":-0.1917848549326277},{\\\"data0\\\":3,\\\"data1\\\":5,\\\"data2\\\":-0.07494068295407723},{\\\"data0\\\":4,\\\"data1\\\":-5,\\\"data2\\\":0.018686436816934687},{\\\"data0\\\":4,\\\"data1\\\":-4,\\\"data2\\\":-0.10362229026069987},{\\\"data0\\\":4,\\\"data1\\\":-3,\\\"data2\\\":-0.1917848549326277},{\\\"data0\\\":4,\\\"data1\\\":-2,\\\"data2\\\":-0.21718431835123952},{\\\"data0\\\":4,\\\"data1\\\":-1,\\\"data2\\\":-0.20162936743561297},{\\\"data0\\\":4,\\\"data1\\\":0,\\\"data2\\\":-0.18920062382698205},{\\\"data0\\\":4,\\\"data1\\\":1,\\\"data2\\\":-0.20162936743561297},{\\\"data0\\\":4,\\\"data1\\\":2,\\\"data2\\\":-0.21718431835123952},{\\\"data0\\\":4,\\\"data1\\\":3,\\\"data2\\\":-0.1917848549326277},{\\\"data0\\\":4,\\\"data1\\\":4,\\\"data2\\\":-0.10362229026069987},{\\\"data0\\\":4,\\\"data1\\\":5,\\\"data2\\\":0.018686436816934687},{\\\"data0\\\":5,\\\"data1\\\":-5,\\\"data2\\\":0.10024812527586709},{\\\"data0\\\":5,\\\"data1\\\":-4,\\\"data2\\\":0.018686436816934687},{\\\"data0\\\":5,\\\"data1\\\":-3,\\\"data2\\\":-0.07494068295407723},{\\\"data0\\\":5,\\\"data1\\\":-2,\\\"data2\\\":-0.14523137672394124},{\\\"data0\\\":5,\\\"data1\\\":-1,\\\"data2\\\":-0.18163979110507836},{\\\"data0\\\":5,\\\"data1\\\":0,\\\"data2\\\":-0.1917848549326277},{\\\"data0\\\":5,\\\"data1\\\":1,\\\"data2\\\":-0.18163979110507836},{\\\"data0\\\":5,\\\"data1\\\":2,\\\"data2\\\":-0.14523137672394124},{\\\"data0\\\":5,\\\"data1\\\":3,\\\"data2\\\":-0.07494068295407723},{\\\"data0\\\":5,\\\"data1\\\":4,\\\"data2\\\":0.018686436816934687},{\\\"data0\\\":5,\\\"data1\\\":5,\\\"data2\\\":0.10024812527586709}]},\\\"extension\\\":[]}\\n        Nyaplot.core.parse(model, '#vis-bd1b8dae-bcad-4383-af46-6c86b1e70ae4');\\n    };\\n    if(window['Nyaplot']==undefined){\\n        window.addEventListener('load_nyaplot', render, false);\\n\\treturn;\\n    }\\n    render();\\n})();\\n</script>\\n\""
       ]
      }
     ],
     "prompt_number": 43
    },
    {
     "cell_type": "code",
     "collapsed": false,
     "input": [
      "colors = Nyaplot::Colors.GnBu"
     ],
     "language": "python",
     "metadata": {},
     "outputs": [
      {
       "html": [
        "<table><tr><th>rgb(247,252,240)</th><th>rgb(224,243,219)</th><th>rgb(204,235,197)</th><th>rgb(168,221,181)</th><th>rgb(123,204,196)</th><th>rgb(78,179,211)</th><th>rgb(43,140,190)</th><th>rgb(8,104,172)</th><th>rgb(8,64,129)</th></tr><tr><td style=\"background-color:rgb(247,252,240);\">&nbsp;</td><td style=\"background-color:rgb(224,243,219);\">&nbsp;</td><td style=\"background-color:rgb(204,235,197);\">&nbsp;</td><td style=\"background-color:rgb(168,221,181);\">&nbsp;</td><td style=\"background-color:rgb(123,204,196);\">&nbsp;</td><td style=\"background-color:rgb(78,179,211);\">&nbsp;</td><td style=\"background-color:rgb(43,140,190);\">&nbsp;</td><td style=\"background-color:rgb(8,104,172);\">&nbsp;</td><td style=\"background-color:rgb(8,64,129);\">&nbsp;</td></tr></table>"
       ],
       "metadata": {},
       "output_type": "pyout",
       "prompt_number": 39,
       "text": [
        "#<Nyaplot::Color:0xb9ca2510 @source=[\"rgb(247,252,240)\", \"rgb(224,243,219)\", \"rgb(204,235,197)\", \"rgb(168,221,181)\", \"rgb(123,204,196)\", \"rgb(78,179,211)\", \"rgb(43,140,190)\", \"rgb(8,104,172)\", \"rgb(8,64,129)\"]>"
       ]
      }
     ],
     "prompt_number": 39
    },
    {
     "cell_type": "code",
     "collapsed": false,
     "input": [
      "hm.color(colors)\n",
      "plot2.show"
     ],
     "language": "python",
     "metadata": {},
     "outputs": [
      {
       "html": [
        "<div id='vis-2e395d0a-8ce2-4ae7-9bd5-404f4b67cdb6'></div>\n",
        "<script>\n",
        "(function(){\n",
        "    var render = function(){\n",
        "        var model = {\"panes\":[{\"diagrams\":[{\"type\":\"heatmap\",\"options\":{\"x\":\"data0\",\"y\":\"data1\",\"fill\":\"data2\",\"width\":1,\"height\":1,\"color\":[\"rgb(247,252,240)\",\"rgb(224,243,219)\",\"rgb(204,235,197)\",\"rgb(168,221,181)\",\"rgb(123,204,196)\",\"rgb(78,179,211)\",\"rgb(43,140,190)\",\"rgb(8,104,172)\",\"rgb(8,64,129)\"]},\"data\":\"29e59fd4-e20d-45c6-a9a9-a1ff8d4a2f40\"}],\"options\":{\"legend\":true,\"zoom\":true,\"width\":800,\"xrange\":[-5,5],\"yrange\":[-5,5]}}],\"data\":{\"29e59fd4-e20d-45c6-a9a9-a1ff8d4a2f40\":[{\"data0\":-5,\"data1\":-5,\"data2\":0.10024812527586709},{\"data0\":-5,\"data1\":-4,\"data2\":0.018686436816934687},{\"data0\":-5,\"data1\":-3,\"data2\":-0.07494068295407723},{\"data0\":-5,\"data1\":-2,\"data2\":-0.14523137672394124},{\"data0\":-5,\"data1\":-1,\"data2\":-0.18163979110507836},{\"data0\":-5,\"data1\":0,\"data2\":-0.1917848549326277},{\"data0\":-5,\"data1\":1,\"data2\":-0.18163979110507836},{\"data0\":-5,\"data1\":2,\"data2\":-0.14523137672394124},{\"data0\":-5,\"data1\":3,\"data2\":-0.07494068295407723},{\"data0\":-5,\"data1\":4,\"data2\":0.018686436816934687},{\"data0\":-5,\"data1\":5,\"data2\":0.10024812527586709},{\"data0\":-4,\"data1\":-5,\"data2\":0.018686436816934687},{\"data0\":-4,\"data1\":-4,\"data2\":-0.10362229026069987},{\"data0\":-4,\"data1\":-3,\"data2\":-0.1917848549326277},{\"data0\":-4,\"data1\":-2,\"data2\":-0.21718431835123952},{\"data0\":-4,\"data1\":-1,\"data2\":-0.20162936743561297},{\"data0\":-4,\"data1\":0,\"data2\":-0.18920062382698205},{\"data0\":-4,\"data1\":1,\"data2\":-0.20162936743561297},{\"data0\":-4,\"data1\":2,\"data2\":-0.21718431835123952},{\"data0\":-4,\"data1\":3,\"data2\":-0.1917848549326277},{\"data0\":-4,\"data1\":4,\"data2\":-0.10362229026069987},{\"data0\":-4,\"data1\":5,\"data2\":0.018686436816934687},{\"data0\":-3,\"data1\":-5,\"data2\":-0.07494068295407723},{\"data0\":-3,\"data1\":-4,\"data2\":-0.1917848549326277},{\"data0\":-3,\"data1\":-3,\"data2\":-0.21017152293525476},{\"data0\":-3,\"data1\":-2,\"data2\":-0.12411188138749576},{\"data0\":-3,\"data1\":-1,\"data2\":-0.0065407069689387},{\"data0\":-3,\"data1\":0,\"data2\":0.0470400026866224},{\"data0\":-3,\"data1\":1,\"data2\":-0.0065407069689387},{\"data0\":-3,\"data1\":2,\"data2\":-0.12411188138749576},{\"data0\":-3,\"data1\":3,\"data2\":-0.21017152293525476},{\"data0\":-3,\"data1\":4,\"data2\":-0.1917848549326277},{\"data0\":-3,\"data1\":5,\"data2\":-0.07494068295407723},{\"data0\":-2,\"data1\":-5,\"data2\":-0.14523137672394124},{\"data0\":-2,\"data1\":-4,\"data2\":-0.21718431835123952},{\"data0\":-2,\"data1\":-3,\"data2\":-0.12411188138749576},{\"data0\":-2,\"data1\":-2,\"data2\":0.10891980905843199},{\"data0\":-2,\"data1\":-1,\"data2\":0.35184490787569894},{\"data0\":-2,\"data1\":0,\"data2\":0.45464871341284085},{\"data0\":-2,\"data1\":1,\"data2\":0.35184490787569894},{\"data0\":-2,\"data1\":2,\"data2\":0.10891980905843199},{\"data0\":-2,\"data1\":3,\"data2\":-0.12411188138749576},{\"data0\":-2,\"data1\":4,\"data2\":-0.21718431835123952},{\"data0\":-2,\"data1\":5,\"data2\":-0.14523137672394124},{\"data0\":-1,\"data1\":-5,\"data2\":-0.18163979110507836},{\"data0\":-1,\"data1\":-4,\"data2\":-0.20162936743561297},{\"data0\":-1,\"data1\":-3,\"data2\":-0.0065407069689387},{\"data0\":-1,\"data1\":-2,\"data2\":0.35184490787569894},{\"data0\":-1,\"data1\":-1,\"data2\":0.6984559986366083},{\"data0\":-1,\"data1\":0,\"data2\":0.8414709848078965},{\"data0\":-1,\"data1\":1,\"data2\":0.6984559986366083},{\"data0\":-1,\"data1\":2,\"data2\":0.35184490787569894},{\"data0\":-1,\"data1\":3,\"data2\":-0.0065407069689387},{\"data0\":-1,\"data1\":4,\"data2\":-0.20162936743561297},{\"data0\":-1,\"data1\":5,\"data2\":-0.18163979110507836},{\"data0\":0,\"data1\":-5,\"data2\":-0.1917848549326277},{\"data0\":0,\"data1\":-4,\"data2\":-0.18920062382698205},{\"data0\":0,\"data1\":-3,\"data2\":0.0470400026866224},{\"data0\":0,\"data1\":-2,\"data2\":0.45464871341284085},{\"data0\":0,\"data1\":-1,\"data2\":0.8414709848078965},{\"data0\":0,\"data1\":0,\"data2\":0},{\"data0\":0,\"data1\":1,\"data2\":0.8414709848078965},{\"data0\":0,\"data1\":2,\"data2\":0.45464871341284085},{\"data0\":0,\"data1\":3,\"data2\":0.0470400026866224},{\"data0\":0,\"data1\":4,\"data2\":-0.18920062382698205},{\"data0\":0,\"data1\":5,\"data2\":-0.1917848549326277},{\"data0\":1,\"data1\":-5,\"data2\":-0.18163979110507836},{\"data0\":1,\"data1\":-4,\"data2\":-0.20162936743561297},{\"data0\":1,\"data1\":-3,\"data2\":-0.0065407069689387},{\"data0\":1,\"data1\":-2,\"data2\":0.35184490787569894},{\"data0\":1,\"data1\":-1,\"data2\":0.6984559986366083},{\"data0\":1,\"data1\":0,\"data2\":0.8414709848078965},{\"data0\":1,\"data1\":1,\"data2\":0.6984559986366083},{\"data0\":1,\"data1\":2,\"data2\":0.35184490787569894},{\"data0\":1,\"data1\":3,\"data2\":-0.0065407069689387},{\"data0\":1,\"data1\":4,\"data2\":-0.20162936743561297},{\"data0\":1,\"data1\":5,\"data2\":-0.18163979110507836},{\"data0\":2,\"data1\":-5,\"data2\":-0.14523137672394124},{\"data0\":2,\"data1\":-4,\"data2\":-0.21718431835123952},{\"data0\":2,\"data1\":-3,\"data2\":-0.12411188138749576},{\"data0\":2,\"data1\":-2,\"data2\":0.10891980905843199},{\"data0\":2,\"data1\":-1,\"data2\":0.35184490787569894},{\"data0\":2,\"data1\":0,\"data2\":0.45464871341284085},{\"data0\":2,\"data1\":1,\"data2\":0.35184490787569894},{\"data0\":2,\"data1\":2,\"data2\":0.10891980905843199},{\"data0\":2,\"data1\":3,\"data2\":-0.12411188138749576},{\"data0\":2,\"data1\":4,\"data2\":-0.21718431835123952},{\"data0\":2,\"data1\":5,\"data2\":-0.14523137672394124},{\"data0\":3,\"data1\":-5,\"data2\":-0.07494068295407723},{\"data0\":3,\"data1\":-4,\"data2\":-0.1917848549326277},{\"data0\":3,\"data1\":-3,\"data2\":-0.21017152293525476},{\"data0\":3,\"data1\":-2,\"data2\":-0.12411188138749576},{\"data0\":3,\"data1\":-1,\"data2\":-0.0065407069689387},{\"data0\":3,\"data1\":0,\"data2\":0.0470400026866224},{\"data0\":3,\"data1\":1,\"data2\":-0.0065407069689387},{\"data0\":3,\"data1\":2,\"data2\":-0.12411188138749576},{\"data0\":3,\"data1\":3,\"data2\":-0.21017152293525476},{\"data0\":3,\"data1\":4,\"data2\":-0.1917848549326277},{\"data0\":3,\"data1\":5,\"data2\":-0.07494068295407723},{\"data0\":4,\"data1\":-5,\"data2\":0.018686436816934687},{\"data0\":4,\"data1\":-4,\"data2\":-0.10362229026069987},{\"data0\":4,\"data1\":-3,\"data2\":-0.1917848549326277},{\"data0\":4,\"data1\":-2,\"data2\":-0.21718431835123952},{\"data0\":4,\"data1\":-1,\"data2\":-0.20162936743561297},{\"data0\":4,\"data1\":0,\"data2\":-0.18920062382698205},{\"data0\":4,\"data1\":1,\"data2\":-0.20162936743561297},{\"data0\":4,\"data1\":2,\"data2\":-0.21718431835123952},{\"data0\":4,\"data1\":3,\"data2\":-0.1917848549326277},{\"data0\":4,\"data1\":4,\"data2\":-0.10362229026069987},{\"data0\":4,\"data1\":5,\"data2\":0.018686436816934687},{\"data0\":5,\"data1\":-5,\"data2\":0.10024812527586709},{\"data0\":5,\"data1\":-4,\"data2\":0.018686436816934687},{\"data0\":5,\"data1\":-3,\"data2\":-0.07494068295407723},{\"data0\":5,\"data1\":-2,\"data2\":-0.14523137672394124},{\"data0\":5,\"data1\":-1,\"data2\":-0.18163979110507836},{\"data0\":5,\"data1\":0,\"data2\":-0.1917848549326277},{\"data0\":5,\"data1\":1,\"data2\":-0.18163979110507836},{\"data0\":5,\"data1\":2,\"data2\":-0.14523137672394124},{\"data0\":5,\"data1\":3,\"data2\":-0.07494068295407723},{\"data0\":5,\"data1\":4,\"data2\":0.018686436816934687},{\"data0\":5,\"data1\":5,\"data2\":0.10024812527586709}]},\"extension\":[]}\n",
        "        Nyaplot.core.parse(model, '#vis-2e395d0a-8ce2-4ae7-9bd5-404f4b67cdb6');\n",
        "    };\n",
        "    if(window['Nyaplot']==undefined){\n",
        "        window.addEventListener('load_nyaplot', render, false);\n",
        "\treturn;\n",
        "    }\n",
        "    render();\n",
        "})();\n",
        "</script>\n"
       ],
       "metadata": {},
       "output_type": "pyout",
       "prompt_number": 41,
       "text": [
        "\"<div id='vis-2e395d0a-8ce2-4ae7-9bd5-404f4b67cdb6'></div>\\n<script>\\n(function(){\\n    var render = function(){\\n        var model = {\\\"panes\\\":[{\\\"diagrams\\\":[{\\\"type\\\":\\\"heatmap\\\",\\\"options\\\":{\\\"x\\\":\\\"data0\\\",\\\"y\\\":\\\"data1\\\",\\\"fill\\\":\\\"data2\\\",\\\"width\\\":1,\\\"height\\\":1,\\\"color\\\":[\\\"rgb(247,252,240)\\\",\\\"rgb(224,243,219)\\\",\\\"rgb(204,235,197)\\\",\\\"rgb(168,221,181)\\\",\\\"rgb(123,204,196)\\\",\\\"rgb(78,179,211)\\\",\\\"rgb(43,140,190)\\\",\\\"rgb(8,104,172)\\\",\\\"rgb(8,64,129)\\\"]},\\\"data\\\":\\\"29e59fd4-e20d-45c6-a9a9-a1ff8d4a2f40\\\"}],\\\"options\\\":{\\\"legend\\\":true,\\\"zoom\\\":true,\\\"width\\\":800,\\\"xrange\\\":[-5,5],\\\"yrange\\\":[-5,5]}}],\\\"data\\\":{\\\"29e59fd4-e20d-45c6-a9a9-a1ff8d4a2f40\\\":[{\\\"data0\\\":-5,\\\"data1\\\":-5,\\\"data2\\\":0.10024812527586709},{\\\"data0\\\":-5,\\\"data1\\\":-4,\\\"data2\\\":0.018686436816934687},{\\\"data0\\\":-5,\\\"data1\\\":-3,\\\"data2\\\":-0.07494068295407723},{\\\"data0\\\":-5,\\\"data1\\\":-2,\\\"data2\\\":-0.14523137672394124},{\\\"data0\\\":-5,\\\"data1\\\":-1,\\\"data2\\\":-0.18163979110507836},{\\\"data0\\\":-5,\\\"data1\\\":0,\\\"data2\\\":-0.1917848549326277},{\\\"data0\\\":-5,\\\"data1\\\":1,\\\"data2\\\":-0.18163979110507836},{\\\"data0\\\":-5,\\\"data1\\\":2,\\\"data2\\\":-0.14523137672394124},{\\\"data0\\\":-5,\\\"data1\\\":3,\\\"data2\\\":-0.07494068295407723},{\\\"data0\\\":-5,\\\"data1\\\":4,\\\"data2\\\":0.018686436816934687},{\\\"data0\\\":-5,\\\"data1\\\":5,\\\"data2\\\":0.10024812527586709},{\\\"data0\\\":-4,\\\"data1\\\":-5,\\\"data2\\\":0.018686436816934687},{\\\"data0\\\":-4,\\\"data1\\\":-4,\\\"data2\\\":-0.10362229026069987},{\\\"data0\\\":-4,\\\"data1\\\":-3,\\\"data2\\\":-0.1917848549326277},{\\\"data0\\\":-4,\\\"data1\\\":-2,\\\"data2\\\":-0.21718431835123952},{\\\"data0\\\":-4,\\\"data1\\\":-1,\\\"data2\\\":-0.20162936743561297},{\\\"data0\\\":-4,\\\"data1\\\":0,\\\"data2\\\":-0.18920062382698205},{\\\"data0\\\":-4,\\\"data1\\\":1,\\\"data2\\\":-0.20162936743561297},{\\\"data0\\\":-4,\\\"data1\\\":2,\\\"data2\\\":-0.21718431835123952},{\\\"data0\\\":-4,\\\"data1\\\":3,\\\"data2\\\":-0.1917848549326277},{\\\"data0\\\":-4,\\\"data1\\\":4,\\\"data2\\\":-0.10362229026069987},{\\\"data0\\\":-4,\\\"data1\\\":5,\\\"data2\\\":0.018686436816934687},{\\\"data0\\\":-3,\\\"data1\\\":-5,\\\"data2\\\":-0.07494068295407723},{\\\"data0\\\":-3,\\\"data1\\\":-4,\\\"data2\\\":-0.1917848549326277},{\\\"data0\\\":-3,\\\"data1\\\":-3,\\\"data2\\\":-0.21017152293525476},{\\\"data0\\\":-3,\\\"data1\\\":-2,\\\"data2\\\":-0.12411188138749576},{\\\"data0\\\":-3,\\\"data1\\\":-1,\\\"data2\\\":-0.0065407069689387},{\\\"data0\\\":-3,\\\"data1\\\":0,\\\"data2\\\":0.0470400026866224},{\\\"data0\\\":-3,\\\"data1\\\":1,\\\"data2\\\":-0.0065407069689387},{\\\"data0\\\":-3,\\\"data1\\\":2,\\\"data2\\\":-0.12411188138749576},{\\\"data0\\\":-3,\\\"data1\\\":3,\\\"data2\\\":-0.21017152293525476},{\\\"data0\\\":-3,\\\"data1\\\":4,\\\"data2\\\":-0.1917848549326277},{\\\"data0\\\":-3,\\\"data1\\\":5,\\\"data2\\\":-0.07494068295407723},{\\\"data0\\\":-2,\\\"data1\\\":-5,\\\"data2\\\":-0.14523137672394124},{\\\"data0\\\":-2,\\\"data1\\\":-4,\\\"data2\\\":-0.21718431835123952},{\\\"data0\\\":-2,\\\"data1\\\":-3,\\\"data2\\\":-0.12411188138749576},{\\\"data0\\\":-2,\\\"data1\\\":-2,\\\"data2\\\":0.10891980905843199},{\\\"data0\\\":-2,\\\"data1\\\":-1,\\\"data2\\\":0.35184490787569894},{\\\"data0\\\":-2,\\\"data1\\\":0,\\\"data2\\\":0.45464871341284085},{\\\"data0\\\":-2,\\\"data1\\\":1,\\\"data2\\\":0.35184490787569894},{\\\"data0\\\":-2,\\\"data1\\\":2,\\\"data2\\\":0.10891980905843199},{\\\"data0\\\":-2,\\\"data1\\\":3,\\\"data2\\\":-0.12411188138749576},{\\\"data0\\\":-2,\\\"data1\\\":4,\\\"data2\\\":-0.21718431835123952},{\\\"data0\\\":-2,\\\"data1\\\":5,\\\"data2\\\":-0.14523137672394124},{\\\"data0\\\":-1,\\\"data1\\\":-5,\\\"data2\\\":-0.18163979110507836},{\\\"data0\\\":-1,\\\"data1\\\":-4,\\\"data2\\\":-0.20162936743561297},{\\\"data0\\\":-1,\\\"data1\\\":-3,\\\"data2\\\":-0.0065407069689387},{\\\"data0\\\":-1,\\\"data1\\\":-2,\\\"data2\\\":0.35184490787569894},{\\\"data0\\\":-1,\\\"data1\\\":-1,\\\"data2\\\":0.6984559986366083},{\\\"data0\\\":-1,\\\"data1\\\":0,\\\"data2\\\":0.8414709848078965},{\\\"data0\\\":-1,\\\"data1\\\":1,\\\"data2\\\":0.6984559986366083},{\\\"data0\\\":-1,\\\"data1\\\":2,\\\"data2\\\":0.35184490787569894},{\\\"data0\\\":-1,\\\"data1\\\":3,\\\"data2\\\":-0.0065407069689387},{\\\"data0\\\":-1,\\\"data1\\\":4,\\\"data2\\\":-0.20162936743561297},{\\\"data0\\\":-1,\\\"data1\\\":5,\\\"data2\\\":-0.18163979110507836},{\\\"data0\\\":0,\\\"data1\\\":-5,\\\"data2\\\":-0.1917848549326277},{\\\"data0\\\":0,\\\"data1\\\":-4,\\\"data2\\\":-0.18920062382698205},{\\\"data0\\\":0,\\\"data1\\\":-3,\\\"data2\\\":0.0470400026866224},{\\\"data0\\\":0,\\\"data1\\\":-2,\\\"data2\\\":0.45464871341284085},{\\\"data0\\\":0,\\\"data1\\\":-1,\\\"data2\\\":0.8414709848078965},{\\\"data0\\\":0,\\\"data1\\\":0,\\\"data2\\\":0},{\\\"data0\\\":0,\\\"data1\\\":1,\\\"data2\\\":0.8414709848078965},{\\\"data0\\\":0,\\\"data1\\\":2,\\\"data2\\\":0.45464871341284085},{\\\"data0\\\":0,\\\"data1\\\":3,\\\"data2\\\":0.0470400026866224},{\\\"data0\\\":0,\\\"data1\\\":4,\\\"data2\\\":-0.18920062382698205},{\\\"data0\\\":0,\\\"data1\\\":5,\\\"data2\\\":-0.1917848549326277},{\\\"data0\\\":1,\\\"data1\\\":-5,\\\"data2\\\":-0.18163979110507836},{\\\"data0\\\":1,\\\"data1\\\":-4,\\\"data2\\\":-0.20162936743561297},{\\\"data0\\\":1,\\\"data1\\\":-3,\\\"data2\\\":-0.0065407069689387},{\\\"data0\\\":1,\\\"data1\\\":-2,\\\"data2\\\":0.35184490787569894},{\\\"data0\\\":1,\\\"data1\\\":-1,\\\"data2\\\":0.6984559986366083},{\\\"data0\\\":1,\\\"data1\\\":0,\\\"data2\\\":0.8414709848078965},{\\\"data0\\\":1,\\\"data1\\\":1,\\\"data2\\\":0.6984559986366083},{\\\"data0\\\":1,\\\"data1\\\":2,\\\"data2\\\":0.35184490787569894},{\\\"data0\\\":1,\\\"data1\\\":3,\\\"data2\\\":-0.0065407069689387},{\\\"data0\\\":1,\\\"data1\\\":4,\\\"data2\\\":-0.20162936743561297},{\\\"data0\\\":1,\\\"data1\\\":5,\\\"data2\\\":-0.18163979110507836},{\\\"data0\\\":2,\\\"data1\\\":-5,\\\"data2\\\":-0.14523137672394124},{\\\"data0\\\":2,\\\"data1\\\":-4,\\\"data2\\\":-0.21718431835123952},{\\\"data0\\\":2,\\\"data1\\\":-3,\\\"data2\\\":-0.12411188138749576},{\\\"data0\\\":2,\\\"data1\\\":-2,\\\"data2\\\":0.10891980905843199},{\\\"data0\\\":2,\\\"data1\\\":-1,\\\"data2\\\":0.35184490787569894},{\\\"data0\\\":2,\\\"data1\\\":0,\\\"data2\\\":0.45464871341284085},{\\\"data0\\\":2,\\\"data1\\\":1,\\\"data2\\\":0.35184490787569894},{\\\"data0\\\":2,\\\"data1\\\":2,\\\"data2\\\":0.10891980905843199},{\\\"data0\\\":2,\\\"data1\\\":3,\\\"data2\\\":-0.12411188138749576},{\\\"data0\\\":2,\\\"data1\\\":4,\\\"data2\\\":-0.21718431835123952},{\\\"data0\\\":2,\\\"data1\\\":5,\\\"data2\\\":-0.14523137672394124},{\\\"data0\\\":3,\\\"data1\\\":-5,\\\"data2\\\":-0.07494068295407723},{\\\"data0\\\":3,\\\"data1\\\":-4,\\\"data2\\\":-0.1917848549326277},{\\\"data0\\\":3,\\\"data1\\\":-3,\\\"data2\\\":-0.21017152293525476},{\\\"data0\\\":3,\\\"data1\\\":-2,\\\"data2\\\":-0.12411188138749576},{\\\"data0\\\":3,\\\"data1\\\":-1,\\\"data2\\\":-0.0065407069689387},{\\\"data0\\\":3,\\\"data1\\\":0,\\\"data2\\\":0.0470400026866224},{\\\"data0\\\":3,\\\"data1\\\":1,\\\"data2\\\":-0.0065407069689387},{\\\"data0\\\":3,\\\"data1\\\":2,\\\"data2\\\":-0.12411188138749576},{\\\"data0\\\":3,\\\"data1\\\":3,\\\"data2\\\":-0.21017152293525476},{\\\"data0\\\":3,\\\"data1\\\":4,\\\"data2\\\":-0.1917848549326277},{\\\"data0\\\":3,\\\"data1\\\":5,\\\"data2\\\":-0.07494068295407723},{\\\"data0\\\":4,\\\"data1\\\":-5,\\\"data2\\\":0.018686436816934687},{\\\"data0\\\":4,\\\"data1\\\":-4,\\\"data2\\\":-0.10362229026069987},{\\\"data0\\\":4,\\\"data1\\\":-3,\\\"data2\\\":-0.1917848549326277},{\\\"data0\\\":4,\\\"data1\\\":-2,\\\"data2\\\":-0.21718431835123952},{\\\"data0\\\":4,\\\"data1\\\":-1,\\\"data2\\\":-0.20162936743561297},{\\\"data0\\\":4,\\\"data1\\\":0,\\\"data2\\\":-0.18920062382698205},{\\\"data0\\\":4,\\\"data1\\\":1,\\\"data2\\\":-0.20162936743561297},{\\\"data0\\\":4,\\\"data1\\\":2,\\\"data2\\\":-0.21718431835123952},{\\\"data0\\\":4,\\\"data1\\\":3,\\\"data2\\\":-0.1917848549326277},{\\\"data0\\\":4,\\\"data1\\\":4,\\\"data2\\\":-0.10362229026069987},{\\\"data0\\\":4,\\\"data1\\\":5,\\\"data2\\\":0.018686436816934687},{\\\"data0\\\":5,\\\"data1\\\":-5,\\\"data2\\\":0.10024812527586709},{\\\"data0\\\":5,\\\"data1\\\":-4,\\\"data2\\\":0.018686436816934687},{\\\"data0\\\":5,\\\"data1\\\":-3,\\\"data2\\\":-0.07494068295407723},{\\\"data0\\\":5,\\\"data1\\\":-2,\\\"data2\\\":-0.14523137672394124},{\\\"data0\\\":5,\\\"data1\\\":-1,\\\"data2\\\":-0.18163979110507836},{\\\"data0\\\":5,\\\"data1\\\":0,\\\"data2\\\":-0.1917848549326277},{\\\"data0\\\":5,\\\"data1\\\":1,\\\"data2\\\":-0.18163979110507836},{\\\"data0\\\":5,\\\"data1\\\":2,\\\"data2\\\":-0.14523137672394124},{\\\"data0\\\":5,\\\"data1\\\":3,\\\"data2\\\":-0.07494068295407723},{\\\"data0\\\":5,\\\"data1\\\":4,\\\"data2\\\":0.018686436816934687},{\\\"data0\\\":5,\\\"data1\\\":5,\\\"data2\\\":0.10024812527586709}]},\\\"extension\\\":[]}\\n        Nyaplot.core.parse(model, '#vis-2e395d0a-8ce2-4ae7-9bd5-404f4b67cdb6');\\n    };\\n    if(window['Nyaplot']==undefined){\\n        window.addEventListener('load_nyaplot', render, false);\\n\\treturn;\\n    }\\n    render();\\n})();\\n</script>\\n\""
       ]
      }
     ],
     "prompt_number": 41
    }
   ],
   "metadata": {}
  }
 ]
}